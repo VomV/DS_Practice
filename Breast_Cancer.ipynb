{
  "nbformat": 4,
  "nbformat_minor": 0,
  "metadata": {
    "colab": {
      "name": "Breast_Cancer.ipynb",
      "version": "0.3.2",
      "provenance": [],
      "include_colab_link": true
    },
    "kernelspec": {
      "name": "python3",
      "display_name": "Python 3"
    },
    "accelerator": "TPU"
  },
  "cells": [
    {
      "cell_type": "markdown",
      "metadata": {
        "id": "view-in-github",
        "colab_type": "text"
      },
      "source": [
        "<a href=\"https://colab.research.google.com/github/VomV/DS_Practice/blob/master/Breast_Cancer.ipynb\" target=\"_parent\"><img src=\"https://colab.research.google.com/assets/colab-badge.svg\" alt=\"Open In Colab\"/></a>"
      ]
    },
    {
      "cell_type": "code",
      "metadata": {
        "id": "E9B0dz_yjvOw",
        "colab_type": "code",
        "colab": {
          "base_uri": "https://localhost:8080/",
          "height": 340
        },
        "outputId": "298dcc4c-8b5d-47e6-a3ea-2156eba0b1c4"
      },
      "source": [
        "!pip install tensorflow-gpu==2.0.0-alpha0\n",
        "import tensorflow as tf"
      ],
      "execution_count": 1,
      "outputs": [
        {
          "output_type": "stream",
          "text": [
            "Requirement already satisfied: tensorflow-gpu==2.0.0-alpha0 in /usr/local/lib/python3.6/dist-packages (2.0.0a0)\n",
            "Requirement already satisfied: keras-applications>=1.0.6 in /usr/local/lib/python3.6/dist-packages (from tensorflow-gpu==2.0.0-alpha0) (1.0.7)\n",
            "Requirement already satisfied: keras-preprocessing>=1.0.5 in /usr/local/lib/python3.6/dist-packages (from tensorflow-gpu==2.0.0-alpha0) (1.0.9)\n",
            "Requirement already satisfied: tf-estimator-nightly<1.14.0.dev2019030116,>=1.14.0.dev2019030115 in /usr/local/lib/python3.6/dist-packages (from tensorflow-gpu==2.0.0-alpha0) (1.14.0.dev2019030115)\n",
            "Requirement already satisfied: termcolor>=1.1.0 in /usr/local/lib/python3.6/dist-packages (from tensorflow-gpu==2.0.0-alpha0) (1.1.0)\n",
            "Requirement already satisfied: six>=1.10.0 in /usr/local/lib/python3.6/dist-packages (from tensorflow-gpu==2.0.0-alpha0) (1.12.0)\n",
            "Requirement already satisfied: google-pasta>=0.1.2 in /usr/local/lib/python3.6/dist-packages (from tensorflow-gpu==2.0.0-alpha0) (0.1.6)\n",
            "Requirement already satisfied: wheel>=0.26 in /usr/local/lib/python3.6/dist-packages (from tensorflow-gpu==2.0.0-alpha0) (0.33.4)\n",
            "Requirement already satisfied: gast>=0.2.0 in /usr/local/lib/python3.6/dist-packages (from tensorflow-gpu==2.0.0-alpha0) (0.2.2)\n",
            "Requirement already satisfied: absl-py>=0.7.0 in /usr/local/lib/python3.6/dist-packages (from tensorflow-gpu==2.0.0-alpha0) (0.7.1)\n",
            "Requirement already satisfied: tb-nightly<1.14.0a20190302,>=1.14.0a20190301 in /usr/local/lib/python3.6/dist-packages (from tensorflow-gpu==2.0.0-alpha0) (1.14.0a20190301)\n",
            "Requirement already satisfied: numpy<2.0,>=1.14.5 in /usr/local/lib/python3.6/dist-packages (from tensorflow-gpu==2.0.0-alpha0) (1.16.3)\n",
            "Requirement already satisfied: astor>=0.6.0 in /usr/local/lib/python3.6/dist-packages (from tensorflow-gpu==2.0.0-alpha0) (0.7.1)\n",
            "Requirement already satisfied: grpcio>=1.8.6 in /usr/local/lib/python3.6/dist-packages (from tensorflow-gpu==2.0.0-alpha0) (1.15.0)\n",
            "Requirement already satisfied: protobuf>=3.6.1 in /usr/local/lib/python3.6/dist-packages (from tensorflow-gpu==2.0.0-alpha0) (3.7.1)\n",
            "Requirement already satisfied: h5py in /usr/local/lib/python3.6/dist-packages (from keras-applications>=1.0.6->tensorflow-gpu==2.0.0-alpha0) (2.8.0)\n",
            "Requirement already satisfied: werkzeug>=0.11.15 in /usr/local/lib/python3.6/dist-packages (from tb-nightly<1.14.0a20190302,>=1.14.0a20190301->tensorflow-gpu==2.0.0-alpha0) (0.15.2)\n",
            "Requirement already satisfied: markdown>=2.6.8 in /usr/local/lib/python3.6/dist-packages (from tb-nightly<1.14.0a20190302,>=1.14.0a20190301->tensorflow-gpu==2.0.0-alpha0) (3.1)\n",
            "Requirement already satisfied: setuptools in /usr/local/lib/python3.6/dist-packages (from protobuf>=3.6.1->tensorflow-gpu==2.0.0-alpha0) (41.0.1)\n"
          ],
          "name": "stdout"
        }
      ]
    },
    {
      "cell_type": "code",
      "metadata": {
        "id": "mcK1fS4jj8YX",
        "colab_type": "code",
        "colab": {
          "base_uri": "https://localhost:8080/",
          "height": 34
        },
        "outputId": "1a85f4e5-8ee7-4f89-d254-b7f8fbc6893c"
      },
      "source": [
        "print(tf.__version__)"
      ],
      "execution_count": 3,
      "outputs": [
        {
          "output_type": "stream",
          "text": [
            "2.0.0-alpha0\n"
          ],
          "name": "stdout"
        }
      ]
    },
    {
      "cell_type": "code",
      "metadata": {
        "id": "Kzv2RHAjkAN2",
        "colab_type": "code",
        "colab": {
          "resources": {
            "http://localhost:8080/nbextensions/google.colab/files.js": {
              "data": "Ly8gQ29weXJpZ2h0IDIwMTcgR29vZ2xlIExMQwovLwovLyBMaWNlbnNlZCB1bmRlciB0aGUgQXBhY2hlIExpY2Vuc2UsIFZlcnNpb24gMi4wICh0aGUgIkxpY2Vuc2UiKTsKLy8geW91IG1heSBub3QgdXNlIHRoaXMgZmlsZSBleGNlcHQgaW4gY29tcGxpYW5jZSB3aXRoIHRoZSBMaWNlbnNlLgovLyBZb3UgbWF5IG9idGFpbiBhIGNvcHkgb2YgdGhlIExpY2Vuc2UgYXQKLy8KLy8gICAgICBodHRwOi8vd3d3LmFwYWNoZS5vcmcvbGljZW5zZXMvTElDRU5TRS0yLjAKLy8KLy8gVW5sZXNzIHJlcXVpcmVkIGJ5IGFwcGxpY2FibGUgbGF3IG9yIGFncmVlZCB0byBpbiB3cml0aW5nLCBzb2Z0d2FyZQovLyBkaXN0cmlidXRlZCB1bmRlciB0aGUgTGljZW5zZSBpcyBkaXN0cmlidXRlZCBvbiBhbiAiQVMgSVMiIEJBU0lTLAovLyBXSVRIT1VUIFdBUlJBTlRJRVMgT1IgQ09ORElUSU9OUyBPRiBBTlkgS0lORCwgZWl0aGVyIGV4cHJlc3Mgb3IgaW1wbGllZC4KLy8gU2VlIHRoZSBMaWNlbnNlIGZvciB0aGUgc3BlY2lmaWMgbGFuZ3VhZ2UgZ292ZXJuaW5nIHBlcm1pc3Npb25zIGFuZAovLyBsaW1pdGF0aW9ucyB1bmRlciB0aGUgTGljZW5zZS4KCi8qKgogKiBAZmlsZW92ZXJ2aWV3IEhlbHBlcnMgZm9yIGdvb2dsZS5jb2xhYiBQeXRob24gbW9kdWxlLgogKi8KKGZ1bmN0aW9uKHNjb3BlKSB7CmZ1bmN0aW9uIHNwYW4odGV4dCwgc3R5bGVBdHRyaWJ1dGVzID0ge30pIHsKICBjb25zdCBlbGVtZW50ID0gZG9jdW1lbnQuY3JlYXRlRWxlbWVudCgnc3BhbicpOwogIGVsZW1lbnQudGV4dENvbnRlbnQgPSB0ZXh0OwogIGZvciAoY29uc3Qga2V5IG9mIE9iamVjdC5rZXlzKHN0eWxlQXR0cmlidXRlcykpIHsKICAgIGVsZW1lbnQuc3R5bGVba2V5XSA9IHN0eWxlQXR0cmlidXRlc1trZXldOwogIH0KICByZXR1cm4gZWxlbWVudDsKfQoKLy8gTWF4IG51bWJlciBvZiBieXRlcyB3aGljaCB3aWxsIGJlIHVwbG9hZGVkIGF0IGEgdGltZS4KY29uc3QgTUFYX1BBWUxPQURfU0laRSA9IDEwMCAqIDEwMjQ7Ci8vIE1heCBhbW91bnQgb2YgdGltZSB0byBibG9jayB3YWl0aW5nIGZvciB0aGUgdXNlci4KY29uc3QgRklMRV9DSEFOR0VfVElNRU9VVF9NUyA9IDMwICogMTAwMDsKCmZ1bmN0aW9uIF91cGxvYWRGaWxlcyhpbnB1dElkLCBvdXRwdXRJZCkgewogIGNvbnN0IHN0ZXBzID0gdXBsb2FkRmlsZXNTdGVwKGlucHV0SWQsIG91dHB1dElkKTsKICBjb25zdCBvdXRwdXRFbGVtZW50ID0gZG9jdW1lbnQuZ2V0RWxlbWVudEJ5SWQob3V0cHV0SWQpOwogIC8vIENhY2hlIHN0ZXBzIG9uIHRoZSBvdXRwdXRFbGVtZW50IHRvIG1ha2UgaXQgYXZhaWxhYmxlIGZvciB0aGUgbmV4dCBjYWxsCiAgLy8gdG8gdXBsb2FkRmlsZXNDb250aW51ZSBmcm9tIFB5dGhvbi4KICBvdXRwdXRFbGVtZW50LnN0ZXBzID0gc3RlcHM7CgogIHJldHVybiBfdXBsb2FkRmlsZXNDb250aW51ZShvdXRwdXRJZCk7Cn0KCi8vIFRoaXMgaXMgcm91Z2hseSBhbiBhc3luYyBnZW5lcmF0b3IgKG5vdCBzdXBwb3J0ZWQgaW4gdGhlIGJyb3dzZXIgeWV0KSwKLy8gd2hlcmUgdGhlcmUgYXJlIG11bHRpcGxlIGFzeW5jaHJvbm91cyBzdGVwcyBhbmQgdGhlIFB5dGhvbiBzaWRlIGlzIGdvaW5nCi8vIHRvIHBvbGwgZm9yIGNvbXBsZXRpb24gb2YgZWFjaCBzdGVwLgovLyBUaGlzIHVzZXMgYSBQcm9taXNlIHRvIGJsb2NrIHRoZSBweXRob24gc2lkZSBvbiBjb21wbGV0aW9uIG9mIGVhY2ggc3RlcCwKLy8gdGhlbiBwYXNzZXMgdGhlIHJlc3VsdCBvZiB0aGUgcHJldmlvdXMgc3RlcCBhcyB0aGUgaW5wdXQgdG8gdGhlIG5leHQgc3RlcC4KZnVuY3Rpb24gX3VwbG9hZEZpbGVzQ29udGludWUob3V0cHV0SWQpIHsKICBjb25zdCBvdXRwdXRFbGVtZW50ID0gZG9jdW1lbnQuZ2V0RWxlbWVudEJ5SWQob3V0cHV0SWQpOwogIGNvbnN0IHN0ZXBzID0gb3V0cHV0RWxlbWVudC5zdGVwczsKCiAgY29uc3QgbmV4dCA9IHN0ZXBzLm5leHQob3V0cHV0RWxlbWVudC5sYXN0UHJvbWlzZVZhbHVlKTsKICByZXR1cm4gUHJvbWlzZS5yZXNvbHZlKG5leHQudmFsdWUucHJvbWlzZSkudGhlbigodmFsdWUpID0+IHsKICAgIC8vIENhY2hlIHRoZSBsYXN0IHByb21pc2UgdmFsdWUgdG8gbWFrZSBpdCBhdmFpbGFibGUgdG8gdGhlIG5leHQKICAgIC8vIHN0ZXAgb2YgdGhlIGdlbmVyYXRvci4KICAgIG91dHB1dEVsZW1lbnQubGFzdFByb21pc2VWYWx1ZSA9IHZhbHVlOwogICAgcmV0dXJuIG5leHQudmFsdWUucmVzcG9uc2U7CiAgfSk7Cn0KCi8qKgogKiBHZW5lcmF0b3IgZnVuY3Rpb24gd2hpY2ggaXMgY2FsbGVkIGJldHdlZW4gZWFjaCBhc3luYyBzdGVwIG9mIHRoZSB1cGxvYWQKICogcHJvY2Vzcy4KICogQHBhcmFtIHtzdHJpbmd9IGlucHV0SWQgRWxlbWVudCBJRCBvZiB0aGUgaW5wdXQgZmlsZSBwaWNrZXIgZWxlbWVudC4KICogQHBhcmFtIHtzdHJpbmd9IG91dHB1dElkIEVsZW1lbnQgSUQgb2YgdGhlIG91dHB1dCBkaXNwbGF5LgogKiBAcmV0dXJuIHshSXRlcmFibGU8IU9iamVjdD59IEl0ZXJhYmxlIG9mIG5leHQgc3RlcHMuCiAqLwpmdW5jdGlvbiogdXBsb2FkRmlsZXNTdGVwKGlucHV0SWQsIG91dHB1dElkKSB7CiAgY29uc3QgaW5wdXRFbGVtZW50ID0gZG9jdW1lbnQuZ2V0RWxlbWVudEJ5SWQoaW5wdXRJZCk7CiAgaW5wdXRFbGVtZW50LmRpc2FibGVkID0gZmFsc2U7CgogIGNvbnN0IG91dHB1dEVsZW1lbnQgPSBkb2N1bWVudC5nZXRFbGVtZW50QnlJZChvdXRwdXRJZCk7CiAgb3V0cHV0RWxlbWVudC5pbm5lckhUTUwgPSAnJzsKCiAgY29uc3QgcGlja2VkUHJvbWlzZSA9IG5ldyBQcm9taXNlKChyZXNvbHZlKSA9PiB7CiAgICBpbnB1dEVsZW1lbnQuYWRkRXZlbnRMaXN0ZW5lcignY2hhbmdlJywgKGUpID0+IHsKICAgICAgcmVzb2x2ZShlLnRhcmdldC5maWxlcyk7CiAgICB9KTsKICB9KTsKCiAgY29uc3QgY2FuY2VsID0gZG9jdW1lbnQuY3JlYXRlRWxlbWVudCgnYnV0dG9uJyk7CiAgaW5wdXRFbGVtZW50LnBhcmVudEVsZW1lbnQuYXBwZW5kQ2hpbGQoY2FuY2VsKTsKICBjYW5jZWwudGV4dENvbnRlbnQgPSAnQ2FuY2VsIHVwbG9hZCc7CiAgY29uc3QgY2FuY2VsUHJvbWlzZSA9IG5ldyBQcm9taXNlKChyZXNvbHZlKSA9PiB7CiAgICBjYW5jZWwub25jbGljayA9ICgpID0+IHsKICAgICAgcmVzb2x2ZShudWxsKTsKICAgIH07CiAgfSk7CgogIC8vIENhbmNlbCB1cGxvYWQgaWYgdXNlciBoYXNuJ3QgcGlja2VkIGFueXRoaW5nIGluIHRpbWVvdXQuCiAgY29uc3QgdGltZW91dFByb21pc2UgPSBuZXcgUHJvbWlzZSgocmVzb2x2ZSkgPT4gewogICAgc2V0VGltZW91dCgoKSA9PiB7CiAgICAgIHJlc29sdmUobnVsbCk7CiAgICB9LCBGSUxFX0NIQU5HRV9USU1FT1VUX01TKTsKICB9KTsKCiAgLy8gV2FpdCBmb3IgdGhlIHVzZXIgdG8gcGljayB0aGUgZmlsZXMuCiAgY29uc3QgZmlsZXMgPSB5aWVsZCB7CiAgICBwcm9taXNlOiBQcm9taXNlLnJhY2UoW3BpY2tlZFByb21pc2UsIHRpbWVvdXRQcm9taXNlLCBjYW5jZWxQcm9taXNlXSksCiAgICByZXNwb25zZTogewogICAgICBhY3Rpb246ICdzdGFydGluZycsCiAgICB9CiAgfTsKCiAgaWYgKCFmaWxlcykgewogICAgcmV0dXJuIHsKICAgICAgcmVzcG9uc2U6IHsKICAgICAgICBhY3Rpb246ICdjb21wbGV0ZScsCiAgICAgIH0KICAgIH07CiAgfQoKICBjYW5jZWwucmVtb3ZlKCk7CgogIC8vIERpc2FibGUgdGhlIGlucHV0IGVsZW1lbnQgc2luY2UgZnVydGhlciBwaWNrcyBhcmUgbm90IGFsbG93ZWQuCiAgaW5wdXRFbGVtZW50LmRpc2FibGVkID0gdHJ1ZTsKCiAgZm9yIChjb25zdCBmaWxlIG9mIGZpbGVzKSB7CiAgICBjb25zdCBsaSA9IGRvY3VtZW50LmNyZWF0ZUVsZW1lbnQoJ2xpJyk7CiAgICBsaS5hcHBlbmQoc3BhbihmaWxlLm5hbWUsIHtmb250V2VpZ2h0OiAnYm9sZCd9KSk7CiAgICBsaS5hcHBlbmQoc3BhbigKICAgICAgICBgKCR7ZmlsZS50eXBlIHx8ICduL2EnfSkgLSAke2ZpbGUuc2l6ZX0gYnl0ZXMsIGAgKwogICAgICAgIGBsYXN0IG1vZGlmaWVkOiAkewogICAgICAgICAgICBmaWxlLmxhc3RNb2RpZmllZERhdGUgPyBmaWxlLmxhc3RNb2RpZmllZERhdGUudG9Mb2NhbGVEYXRlU3RyaW5nKCkgOgogICAgICAgICAgICAgICAgICAgICAgICAgICAgICAgICAgICAnbi9hJ30gLSBgKSk7CiAgICBjb25zdCBwZXJjZW50ID0gc3BhbignMCUgZG9uZScpOwogICAgbGkuYXBwZW5kQ2hpbGQocGVyY2VudCk7CgogICAgb3V0cHV0RWxlbWVudC5hcHBlbmRDaGlsZChsaSk7CgogICAgY29uc3QgZmlsZURhdGFQcm9taXNlID0gbmV3IFByb21pc2UoKHJlc29sdmUpID0+IHsKICAgICAgY29uc3QgcmVhZGVyID0gbmV3IEZpbGVSZWFkZXIoKTsKICAgICAgcmVhZGVyLm9ubG9hZCA9IChlKSA9PiB7CiAgICAgICAgcmVzb2x2ZShlLnRhcmdldC5yZXN1bHQpOwogICAgICB9OwogICAgICByZWFkZXIucmVhZEFzQXJyYXlCdWZmZXIoZmlsZSk7CiAgICB9KTsKICAgIC8vIFdhaXQgZm9yIHRoZSBkYXRhIHRvIGJlIHJlYWR5LgogICAgbGV0IGZpbGVEYXRhID0geWllbGQgewogICAgICBwcm9taXNlOiBmaWxlRGF0YVByb21pc2UsCiAgICAgIHJlc3BvbnNlOiB7CiAgICAgICAgYWN0aW9uOiAnY29udGludWUnLAogICAgICB9CiAgICB9OwoKICAgIC8vIFVzZSBhIGNodW5rZWQgc2VuZGluZyB0byBhdm9pZCBtZXNzYWdlIHNpemUgbGltaXRzLiBTZWUgYi82MjExNTY2MC4KICAgIGxldCBwb3NpdGlvbiA9IDA7CiAgICB3aGlsZSAocG9zaXRpb24gPCBmaWxlRGF0YS5ieXRlTGVuZ3RoKSB7CiAgICAgIGNvbnN0IGxlbmd0aCA9IE1hdGgubWluKGZpbGVEYXRhLmJ5dGVMZW5ndGggLSBwb3NpdGlvbiwgTUFYX1BBWUxPQURfU0laRSk7CiAgICAgIGNvbnN0IGNodW5rID0gbmV3IFVpbnQ4QXJyYXkoZmlsZURhdGEsIHBvc2l0aW9uLCBsZW5ndGgpOwogICAgICBwb3NpdGlvbiArPSBsZW5ndGg7CgogICAgICBjb25zdCBiYXNlNjQgPSBidG9hKFN0cmluZy5mcm9tQ2hhckNvZGUuYXBwbHkobnVsbCwgY2h1bmspKTsKICAgICAgeWllbGQgewogICAgICAgIHJlc3BvbnNlOiB7CiAgICAgICAgICBhY3Rpb246ICdhcHBlbmQnLAogICAgICAgICAgZmlsZTogZmlsZS5uYW1lLAogICAgICAgICAgZGF0YTogYmFzZTY0LAogICAgICAgIH0sCiAgICAgIH07CiAgICAgIHBlcmNlbnQudGV4dENvbnRlbnQgPQogICAgICAgICAgYCR7TWF0aC5yb3VuZCgocG9zaXRpb24gLyBmaWxlRGF0YS5ieXRlTGVuZ3RoKSAqIDEwMCl9JSBkb25lYDsKICAgIH0KICB9CgogIC8vIEFsbCBkb25lLgogIHlpZWxkIHsKICAgIHJlc3BvbnNlOiB7CiAgICAgIGFjdGlvbjogJ2NvbXBsZXRlJywKICAgIH0KICB9Owp9CgpzY29wZS5nb29nbGUgPSBzY29wZS5nb29nbGUgfHwge307CnNjb3BlLmdvb2dsZS5jb2xhYiA9IHNjb3BlLmdvb2dsZS5jb2xhYiB8fCB7fTsKc2NvcGUuZ29vZ2xlLmNvbGFiLl9maWxlcyA9IHsKICBfdXBsb2FkRmlsZXMsCiAgX3VwbG9hZEZpbGVzQ29udGludWUsCn07Cn0pKHNlbGYpOwo=",
              "ok": true,
              "headers": [
                [
                  "content-type",
                  "application/javascript"
                ]
              ],
              "status": 200,
              "status_text": ""
            }
          },
          "base_uri": "https://localhost:8080/",
          "height": 210
        },
        "outputId": "e63a4e04-6c0a-476d-ca78-031d5a1ca2f5"
      },
      "source": [
        "import pandas as pd\n",
        "from google.colab import files\n",
        "\n",
        "file = files.upload()\n",
        "\n",
        "xtrain = pd.read_csv('xtrain.csv', header=None)\n",
        "ytrain = pd.read_csv('ytrain.csv', header=None)\n",
        "xtest = pd.read_csv('xtest.csv', header=None)\n",
        "ytest = pd.read_csv('ytest.csv', header=None)"
      ],
      "execution_count": 4,
      "outputs": [
        {
          "output_type": "display_data",
          "data": {
            "text/html": [
              "\n",
              "     <input type=\"file\" id=\"files-84cf813b-052f-4767-8b5c-050b696cfc71\" name=\"files[]\" multiple disabled />\n",
              "     <output id=\"result-84cf813b-052f-4767-8b5c-050b696cfc71\">\n",
              "      Upload widget is only available when the cell has been executed in the\n",
              "      current browser session. Please rerun this cell to enable.\n",
              "      </output>\n",
              "      <script src=\"/nbextensions/google.colab/files.js\"></script> "
            ],
            "text/plain": [
              "<IPython.core.display.HTML object>"
            ]
          },
          "metadata": {
            "tags": []
          }
        },
        {
          "output_type": "stream",
          "text": [
            "Saving BreastCancer.ipynb to BreastCancer.ipynb\n",
            "Saving xtest.csv to xtest (1).csv\n",
            "Saving xtrain.csv to xtrain (2).csv\n",
            "Saving ytest.csv to ytest (1).csv\n",
            "Saving ytrain.csv to ytrain (1).csv\n"
          ],
          "name": "stdout"
        }
      ]
    },
    {
      "cell_type": "code",
      "metadata": {
        "id": "8UFG3yQxlcrx",
        "colab_type": "code",
        "colab": {
          "base_uri": "https://localhost:8080/",
          "height": 119
        },
        "outputId": "3954e5e4-36ae-4a9f-8833-df3ff1290366"
      },
      "source": [
        "ytest.info()"
      ],
      "execution_count": 19,
      "outputs": [
        {
          "output_type": "stream",
          "text": [
            "<class 'pandas.core.frame.DataFrame'>\n",
            "RangeIndex: 114 entries, 0 to 113\n",
            "Data columns (total 1 columns):\n",
            "0    114 non-null float64\n",
            "dtypes: float64(1)\n",
            "memory usage: 992.0 bytes\n"
          ],
          "name": "stdout"
        }
      ]
    },
    {
      "cell_type": "code",
      "metadata": {
        "id": "Nk-d6GgcksP4",
        "colab_type": "code",
        "colab": {}
      },
      "source": [
        "from tensorflow.keras.models import Sequential\n",
        "from tensorflow.keras.layers import Dense\n",
        "\n",
        "model = Sequential([\n",
        "    Dense(units=16, activation='relu', input_dim=30),\n",
        "    Dense(units=8, activation='relu'),\n",
        "    Dense(units=6, activation='relu'),\n",
        "    Dense(units=1, activation='sigmoid')\n",
        "])"
      ],
      "execution_count": 0,
      "outputs": []
    },
    {
      "cell_type": "code",
      "metadata": {
        "id": "eA2gePDGnCgJ",
        "colab_type": "code",
        "colab": {}
      },
      "source": [
        "model.compile(optimizer='rmsprop', loss='binary_crossentropy')"
      ],
      "execution_count": 0,
      "outputs": []
    },
    {
      "cell_type": "code",
      "metadata": {
        "id": "WZtlgPrcnZI4",
        "colab_type": "code",
        "colab": {
          "base_uri": "https://localhost:8080/",
          "height": 3434
        },
        "outputId": "135c5f42-a7f2-48bd-8d75-de50b7668dd1"
      },
      "source": [
        "model.fit(xtrain, ytrain, batch_size=1, epochs = 100)"
      ],
      "execution_count": 16,
      "outputs": [
        {
          "output_type": "stream",
          "text": [
            "Epoch 1/100\n",
            "455/455 [==============================] - 1s 2ms/sample - loss: 0.2992\n",
            "Epoch 2/100\n",
            "455/455 [==============================] - 1s 2ms/sample - loss: 0.1047\n",
            "Epoch 3/100\n",
            "455/455 [==============================] - 1s 1ms/sample - loss: 0.0804\n",
            "Epoch 4/100\n",
            "455/455 [==============================] - 1s 1ms/sample - loss: 0.0872\n",
            "Epoch 5/100\n",
            "455/455 [==============================] - 1s 1ms/sample - loss: 0.0803\n",
            "Epoch 6/100\n",
            "455/455 [==============================] - 1s 1ms/sample - loss: 0.0795\n",
            "Epoch 7/100\n",
            "455/455 [==============================] - 1s 1ms/sample - loss: 0.0906\n",
            "Epoch 8/100\n",
            "455/455 [==============================] - 1s 1ms/sample - loss: 0.0844\n",
            "Epoch 9/100\n",
            "455/455 [==============================] - 1s 1ms/sample - loss: 0.0904\n",
            "Epoch 10/100\n",
            "455/455 [==============================] - 1s 1ms/sample - loss: 0.0805\n",
            "Epoch 11/100\n",
            "455/455 [==============================] - 1s 1ms/sample - loss: 0.0793\n",
            "Epoch 12/100\n",
            "455/455 [==============================] - 1s 1ms/sample - loss: 0.0852\n",
            "Epoch 13/100\n",
            "455/455 [==============================] - 1s 1ms/sample - loss: 0.0789\n",
            "Epoch 14/100\n",
            "455/455 [==============================] - 1s 1ms/sample - loss: 0.0807\n",
            "Epoch 15/100\n",
            "455/455 [==============================] - 1s 1ms/sample - loss: 0.0741\n",
            "Epoch 16/100\n",
            "455/455 [==============================] - 1s 1ms/sample - loss: 0.0760\n",
            "Epoch 17/100\n",
            "455/455 [==============================] - 1s 1ms/sample - loss: 0.0699\n",
            "Epoch 18/100\n",
            "455/455 [==============================] - 1s 1ms/sample - loss: 0.0793\n",
            "Epoch 19/100\n",
            "455/455 [==============================] - 1s 1ms/sample - loss: 0.0664\n",
            "Epoch 20/100\n",
            "455/455 [==============================] - 1s 1ms/sample - loss: 0.0680\n",
            "Epoch 21/100\n",
            "455/455 [==============================] - 1s 1ms/sample - loss: 0.0652\n",
            "Epoch 22/100\n",
            "455/455 [==============================] - 1s 1ms/sample - loss: 0.0676\n",
            "Epoch 23/100\n",
            "455/455 [==============================] - 1s 1ms/sample - loss: 0.0591\n",
            "Epoch 24/100\n",
            "455/455 [==============================] - 1s 1ms/sample - loss: 0.0549\n",
            "Epoch 25/100\n",
            "455/455 [==============================] - 1s 1ms/sample - loss: 0.0634\n",
            "Epoch 26/100\n",
            "455/455 [==============================] - 1s 1ms/sample - loss: 0.0557\n",
            "Epoch 27/100\n",
            "455/455 [==============================] - 1s 1ms/sample - loss: 0.0629\n",
            "Epoch 28/100\n",
            "455/455 [==============================] - 1s 1ms/sample - loss: 0.0687\n",
            "Epoch 29/100\n",
            "455/455 [==============================] - 1s 1ms/sample - loss: 0.0619\n",
            "Epoch 30/100\n",
            "455/455 [==============================] - 1s 1ms/sample - loss: 0.0732\n",
            "Epoch 31/100\n",
            "455/455 [==============================] - 1s 1ms/sample - loss: 0.0620\n",
            "Epoch 32/100\n",
            "455/455 [==============================] - 1s 1ms/sample - loss: 0.0623\n",
            "Epoch 33/100\n",
            "455/455 [==============================] - 1s 1ms/sample - loss: 0.0621\n",
            "Epoch 34/100\n",
            "455/455 [==============================] - 1s 1ms/sample - loss: 0.0569\n",
            "Epoch 35/100\n",
            "455/455 [==============================] - 1s 1ms/sample - loss: 0.0467\n",
            "Epoch 36/100\n",
            "455/455 [==============================] - 1s 1ms/sample - loss: 0.0778\n",
            "Epoch 37/100\n",
            "455/455 [==============================] - 1s 1ms/sample - loss: 0.0645\n",
            "Epoch 38/100\n",
            "455/455 [==============================] - 1s 1ms/sample - loss: 0.0583\n",
            "Epoch 39/100\n",
            "455/455 [==============================] - 1s 1ms/sample - loss: 0.0697\n",
            "Epoch 40/100\n",
            "455/455 [==============================] - 1s 1ms/sample - loss: 0.0573\n",
            "Epoch 41/100\n",
            "455/455 [==============================] - 1s 1ms/sample - loss: 0.0642\n",
            "Epoch 42/100\n",
            "455/455 [==============================] - 1s 1ms/sample - loss: 0.0594\n",
            "Epoch 43/100\n",
            "455/455 [==============================] - 1s 1ms/sample - loss: 0.0595\n",
            "Epoch 44/100\n",
            "455/455 [==============================] - 1s 1ms/sample - loss: 0.0533\n",
            "Epoch 45/100\n",
            "455/455 [==============================] - 1s 1ms/sample - loss: 0.0591\n",
            "Epoch 46/100\n",
            "455/455 [==============================] - 1s 1ms/sample - loss: 0.0543\n",
            "Epoch 47/100\n",
            "455/455 [==============================] - 1s 1ms/sample - loss: 0.0478\n",
            "Epoch 48/100\n",
            "455/455 [==============================] - 1s 1ms/sample - loss: 0.0537\n",
            "Epoch 49/100\n",
            "455/455 [==============================] - 1s 1ms/sample - loss: 0.0473\n",
            "Epoch 50/100\n",
            "455/455 [==============================] - 1s 1ms/sample - loss: 0.0516\n",
            "Epoch 51/100\n",
            "455/455 [==============================] - 1s 1ms/sample - loss: 0.0556\n",
            "Epoch 52/100\n",
            "455/455 [==============================] - 1s 1ms/sample - loss: 0.0474\n",
            "Epoch 53/100\n",
            "455/455 [==============================] - 1s 1ms/sample - loss: 0.0528\n",
            "Epoch 54/100\n",
            "455/455 [==============================] - 1s 1ms/sample - loss: 0.0485\n",
            "Epoch 55/100\n",
            "455/455 [==============================] - 1s 1ms/sample - loss: 0.0529\n",
            "Epoch 56/100\n",
            "455/455 [==============================] - 1s 1ms/sample - loss: 0.0475\n",
            "Epoch 57/100\n",
            "455/455 [==============================] - 1s 1ms/sample - loss: 0.0521\n",
            "Epoch 58/100\n",
            "455/455 [==============================] - 1s 1ms/sample - loss: 0.0451\n",
            "Epoch 59/100\n",
            "455/455 [==============================] - 1s 1ms/sample - loss: 0.0422\n",
            "Epoch 60/100\n",
            "455/455 [==============================] - 1s 1ms/sample - loss: 0.0419\n",
            "Epoch 61/100\n",
            "455/455 [==============================] - 1s 1ms/sample - loss: 0.0464\n",
            "Epoch 62/100\n",
            "455/455 [==============================] - 1s 1ms/sample - loss: 0.0479\n",
            "Epoch 63/100\n",
            "455/455 [==============================] - 1s 1ms/sample - loss: 0.0447\n",
            "Epoch 64/100\n",
            "455/455 [==============================] - 1s 1ms/sample - loss: 0.0493\n",
            "Epoch 65/100\n",
            "455/455 [==============================] - 1s 1ms/sample - loss: 0.0479\n",
            "Epoch 66/100\n",
            "455/455 [==============================] - 1s 1ms/sample - loss: 0.0454\n",
            "Epoch 67/100\n",
            "455/455 [==============================] - 1s 1ms/sample - loss: 0.0461\n",
            "Epoch 68/100\n",
            "455/455 [==============================] - 1s 1ms/sample - loss: 0.0445\n",
            "Epoch 69/100\n",
            "455/455 [==============================] - 1s 1ms/sample - loss: 0.0555\n",
            "Epoch 70/100\n",
            "455/455 [==============================] - 1s 1ms/sample - loss: 0.0507\n",
            "Epoch 71/100\n",
            "455/455 [==============================] - 1s 1ms/sample - loss: 0.0416\n",
            "Epoch 72/100\n",
            "455/455 [==============================] - 1s 1ms/sample - loss: 0.0477\n",
            "Epoch 73/100\n",
            "455/455 [==============================] - 1s 1ms/sample - loss: 0.0590\n",
            "Epoch 74/100\n",
            "455/455 [==============================] - 1s 1ms/sample - loss: 0.0480\n",
            "Epoch 75/100\n",
            "455/455 [==============================] - 1s 1ms/sample - loss: 0.0499\n",
            "Epoch 76/100\n",
            "455/455 [==============================] - 1s 1ms/sample - loss: 0.0421\n",
            "Epoch 77/100\n",
            "455/455 [==============================] - 1s 1ms/sample - loss: 0.0516\n",
            "Epoch 78/100\n",
            "455/455 [==============================] - 1s 1ms/sample - loss: 0.0565\n",
            "Epoch 79/100\n",
            "455/455 [==============================] - 1s 1ms/sample - loss: 0.0465\n",
            "Epoch 80/100\n",
            "455/455 [==============================] - 1s 1ms/sample - loss: 0.0405\n",
            "Epoch 81/100\n",
            "455/455 [==============================] - 1s 1ms/sample - loss: 0.0572\n",
            "Epoch 82/100\n",
            "455/455 [==============================] - 1s 1ms/sample - loss: 0.0460\n",
            "Epoch 83/100\n",
            "455/455 [==============================] - 1s 1ms/sample - loss: 0.0522\n",
            "Epoch 84/100\n",
            "455/455 [==============================] - 1s 1ms/sample - loss: 0.0627\n",
            "Epoch 85/100\n",
            "455/455 [==============================] - 1s 1ms/sample - loss: 0.0493\n",
            "Epoch 86/100\n",
            "455/455 [==============================] - 1s 1ms/sample - loss: 0.0503\n",
            "Epoch 87/100\n",
            "455/455 [==============================] - 1s 1ms/sample - loss: 0.0515\n",
            "Epoch 88/100\n",
            "455/455 [==============================] - 1s 1ms/sample - loss: 0.0461\n",
            "Epoch 89/100\n",
            "455/455 [==============================] - 1s 1ms/sample - loss: 0.0478\n",
            "Epoch 90/100\n",
            "455/455 [==============================] - 1s 1ms/sample - loss: 0.0457\n",
            "Epoch 91/100\n",
            "455/455 [==============================] - 1s 1ms/sample - loss: 0.0465\n",
            "Epoch 92/100\n",
            "455/455 [==============================] - 1s 1ms/sample - loss: 0.0441\n",
            "Epoch 93/100\n",
            "455/455 [==============================] - 1s 1ms/sample - loss: 0.0386\n",
            "Epoch 94/100\n",
            "455/455 [==============================] - 1s 1ms/sample - loss: 0.0517\n",
            "Epoch 95/100\n",
            "455/455 [==============================] - 1s 1ms/sample - loss: 0.0428\n",
            "Epoch 96/100\n",
            "455/455 [==============================] - 1s 1ms/sample - loss: 0.0420\n",
            "Epoch 97/100\n",
            "455/455 [==============================] - 1s 1ms/sample - loss: 0.0470\n",
            "Epoch 98/100\n",
            "455/455 [==============================] - 1s 1ms/sample - loss: 0.0415\n",
            "Epoch 99/100\n",
            "455/455 [==============================] - 1s 1ms/sample - loss: 0.0517\n",
            "Epoch 100/100\n",
            "455/455 [==============================] - 1s 1ms/sample - loss: 0.0398\n"
          ],
          "name": "stdout"
        },
        {
          "output_type": "execute_result",
          "data": {
            "text/plain": [
              "<tensorflow.python.keras.callbacks.History at 0x7f7283fdd400>"
            ]
          },
          "metadata": {
            "tags": []
          },
          "execution_count": 16
        }
      ]
    },
    {
      "cell_type": "code",
      "metadata": {
        "id": "qAagUrBTnl5n",
        "colab_type": "code",
        "colab": {}
      },
      "source": [
        "y_pred = model.predict(xtest)\n",
        "y_pred = [1 if y>0.6 else 0 for y in y_pred]"
      ],
      "execution_count": 0,
      "outputs": []
    },
    {
      "cell_type": "code",
      "metadata": {
        "id": "hnFUuDMIogDg",
        "colab_type": "code",
        "colab": {
          "base_uri": "https://localhost:8080/",
          "height": 34
        },
        "outputId": "2a4cc00b-0999-4a06-c6f0-89e22674e817"
      },
      "source": [
        "total=0\n",
        "correct=0\n",
        "wrong=0\n",
        "\n",
        "for i in range(len(y_pred)):\n",
        "  \n",
        "  total+=1\n",
        "  if ytest.iloc[i,0] == y_pred[i]:\n",
        "    correct+=1\n",
        "  else:\n",
        "    wrong+=1\n",
        "    \n",
        "print(total, correct, wrong)"
      ],
      "execution_count": 21,
      "outputs": [
        {
          "output_type": "stream",
          "text": [
            "114 109 5\n"
          ],
          "name": "stdout"
        }
      ]
    }
  ]
}