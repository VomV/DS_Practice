{
  "nbformat": 4,
  "nbformat_minor": 0,
  "metadata": {
    "colab": {
      "name": "PLA_revenue_pred.ipynb",
      "provenance": [],
      "collapsed_sections": []
    },
    "kernelspec": {
      "name": "python3",
      "display_name": "Python 3"
    },
    "language_info": {
      "name": "python"
    }
  },
  "cells": [
    {
      "cell_type": "markdown",
      "metadata": {
        "id": "M2h1HpNVGaPM"
      },
      "source": [
        "Author: Vivek Rawat\n",
        "\n",
        "Date: 21st March 2021"
      ]
    },
    {
      "cell_type": "markdown",
      "metadata": {
        "id": "XYFNa7DbOhTa"
      },
      "source": [
        "**Objective:** Predict revenue generated based on PLA click data\n",
        "\n",
        "**Approach:** This can be formulated as a regression problem to predict revenue based on the PLA data and measure the performance of the model with RMSE.\n",
        "\n",
        "**Alternate Approach:** Since >99% of the clicks dont generate any revenue, a direct regression approach will be biased towards zero revenue instances. So, this problem can be framed in two steps:\n",
        "\n",
        "          1. Sales prediction: Binary classification to predict sales \n",
        "                              occurance of sales (based on non zero revenue)\n",
        "                              1 - Sale occured\n",
        "                              0 - No Sale\n",
        "          2. Revenue prediction: If sale occured, predict the value with Regression\n",
        "\n",
        "**Performance Evaluation:** \n",
        "\n",
        "For the direct regression approach model can be evaluated with RMSE scores on cross validation folds.\n",
        "\n",
        "For the alternate approach mentioned above:\n",
        "\n",
        "                        1. Sales prediction: Objective here is to filter the instances\n",
        "                                            for the regression task. So it is critical to\n",
        "                                            minimise False Negatives, whereas False positives\n",
        "                                            are tolerable. So we need to maximise the Recall\n",
        "                                            as much as possible.\n",
        "                        2. Revenue prediction: This is a regression task and RMSE can be used\n",
        "                                              as the performance metric\n",
        "\n",
        "\n"
      ]
    },
    {
      "cell_type": "markdown",
      "metadata": {
        "id": "t6GPzgvrf-m3"
      },
      "source": [
        "#Observations on features\n",
        "\n",
        "**'day_id':** Can be transformed to day of the week, which might better correlate to the sales behaviour\n",
        "\n",
        "**'net_price':** Numerical feature with skewed distribution and outliers: \n",
        "              Applying log transformation\n",
        "\n",
        "**'num1':** binary feature\n",
        "\n",
        "**'num2':** numerical feature with an outlier (high correlation with 'num6')\n",
        "\n",
        "**'num3':** numerical feature (high correlation with 'num6')\n",
        "\n",
        "**'num4':** numerical feature, very large range;\n",
        "\n",
        "**'num5':** numerical feature, skewed, outliers; applying log transformation\n",
        "\n",
        "**'num6':** numerical feature\n",
        "\n",
        "**'cat1':** categorical; very high cardinality;\n",
        "        This is most likely a product identifier since the net_price within each category is mostly a unique value (~60% of instances). So this ID can be used to create a price variation feature for the model, using % price variation compared to the most frequent price of the product.\n",
        "\n",
        "**'cat2':** categorical; high cardinality; using hash encoder\n",
        "\n",
        "**'cat3':** categorical; high cardinality; using hash encoder\n",
        "\n",
        "#Created Features\n",
        "\n",
        "**'dow':** Day of the week, created from day_id\n",
        "\n",
        "**'price_var':** %variation of net_price above or below the mode within each category of cat1. This should encode discount information or any price hike.\n",
        "\n",
        "\n",
        "\n",
        "#Target\n",
        "\n",
        "'net_revenue': >99% zeroes; skewed distribution; log transfomation should help"
      ]
    },
    {
      "cell_type": "markdown",
      "metadata": {
        "id": "bujPn5fhD7yT"
      },
      "source": [
        "##Discussion"
      ]
    },
    {
      "cell_type": "markdown",
      "metadata": {
        "id": "33giDDDdEBeB"
      },
      "source": [
        "Direct regression approach did not yield accurate predictions for higher revenue instances because the training data is unbalanced with a >99% zero revenue instances. Model is underpredicting the revenue in for instances with high revenue.\n",
        "\n",
        "This can possibly be further improved with exploring the features better and trying other regression models. A better understanding of the anonymized numerical features will certainly help. Also looking at feature importance values would allow for better feature selection.\n",
        "\n",
        "For high cadinality categorical features, simple one hot encoding would be memory and time prohibitive so I explored the following:\n",
        "\n",
        " - cat1 is mostly likely a product ID so price variation within each ID is used as a feature istead of cat1.\n",
        " - cat2 and cat3 have a one to many relationship with cat1 so they could be a part of product hierarchy. These also have high cardinality so a hashing encoder was used to limit the no of columns. This could have possibility of collisions which should be further explored based on number of features.\n",
        " - For hashing encoder 'n_components' parameter was optimized grid search.\n",
        "\n",
        "Futher improvements::\n",
        "\n",
        "- Build a better understanding of the anonymized features to leverage them better. This would allow for creating new features that could be useful.\n",
        "- Understanding the product hierarchy (possibly cat2 and cat3 features) will help in building separate models for each class of product if required.\n",
        "- Further experimentation with encoding of categorical features; features in these categories could be created from net_revenue (by aggregation etc) but overfitting could be an issue here.\n",
        "- In the two step approach mentioned above, further improvements are required to achieve a better recall value of the classifier and then try other regression approaches to predict revenue for instances where sale is predicted.\n",
        "- Gradient boosting models should be explored in both the approaches mentioned.\n",
        "- The log transformations attempted for features and target variable must be tested further."
      ]
    },
    {
      "cell_type": "code",
      "metadata": {
        "id": "H808Pq_IHFN0"
      },
      "source": [
        "import numpy as np\n",
        "import pandas as pd\n",
        "import matplotlib.pyplot as plt\n",
        "from pandas.plotting import scatter_matrix\n",
        "from statsmodels.stats.outliers_influence import variance_inflation_factor\n",
        "\n",
        "from sklearn.model_selection import train_test_split\n",
        "from sklearn.feature_extraction import FeatureHasher\n",
        "from sklearn.ensemble import RandomForestClassifier, RandomForestRegressor\n",
        "from sklearn.linear_model import LogisticRegression\n",
        "from sklearn.svm import SVR\n",
        "\n",
        "from sklearn.model_selection import GridSearchCV\n",
        "from sklearn.model_selection import cross_val_score\n",
        "from sklearn.model_selection import cross_val_predict\n",
        "from sklearn.metrics import mean_squared_error\n",
        "from sklearn.metrics import precision_score, recall_score, f1_score, accuracy_score\n",
        "from sklearn.metrics import confusion_matrix\n",
        "\n",
        "\n",
        "%matplotlib inline\n",
        "\n",
        "#file paths\n",
        "train_file_path = 'Documents/DS_Projects/Code Challenge/'\n",
        "test_file_path = 'Documents/DS_Projects/Code Challenge/'\n",
        "\n",
        "train_data = pd.read_csv(train_file_path + 'train_data.csv')\n",
        "test_data = pd.read_csv(test_file_path + 'test_data.csv')\n"
      ],
      "execution_count": 317,
      "outputs": []
    },
    {
      "cell_type": "code",
      "metadata": {
        "colab": {
          "base_uri": "https://localhost:8080/"
        },
        "id": "-lambIKNIrkl",
        "outputId": "8d7d2c37-2f03-4815-de37-3d2c39bb0166"
      },
      "source": [
        "train_data.info()"
      ],
      "execution_count": 281,
      "outputs": [
        {
          "output_type": "stream",
          "text": [
            "<class 'pandas.core.frame.DataFrame'>\n",
            "RangeIndex: 169181 entries, 0 to 169180\n",
            "Data columns (total 12 columns):\n",
            " #   Column             Non-Null Count   Dtype  \n",
            "---  ------             --------------   -----  \n",
            " 0   net_price          169181 non-null  float64\n",
            " 1   day_id             169181 non-null  int64  \n",
            " 2   num1               169181 non-null  int64  \n",
            " 3   num2               169181 non-null  float64\n",
            " 4   num3               169181 non-null  float64\n",
            " 5   num4               169181 non-null  float64\n",
            " 6   num5               169181 non-null  float64\n",
            " 7   num6               169181 non-null  int64  \n",
            " 8   cat1               169181 non-null  object \n",
            " 9   cat2               169181 non-null  object \n",
            " 10  cat3               169181 non-null  object \n",
            " 11  net_revenue        169181 non-null  float64\n",
            "dtypes: float64(6), int64(3), object(3)\n",
            "memory usage: 15.5+ MB\n"
          ],
          "name": "stdout"
        }
      ]
    },
    {
      "cell_type": "code",
      "metadata": {
        "colab": {
          "base_uri": "https://localhost:8080/",
          "height": 297
        },
        "id": "ie5Sw6RrJckG",
        "outputId": "4959ed06-359d-4213-9d9a-9a7261bba280"
      },
      "source": [
        "train_data.describe()"
      ],
      "execution_count": 282,
      "outputs": [
        {
          "output_type": "execute_result",
          "data": {
            "text/plain": [
              "           net_price      day_id             num1          num2   \\\n",
              "count  169181.000000  1.691810e+05  169181.000000  169181.000000   \n",
              "mean      153.063780  2.015115e+07       0.205472       1.086697   \n",
              "std       242.471639  4.919680e+01       0.404047       0.103898   \n",
              "min         0.040000  2.015110e+07       0.000000       0.520000   \n",
              "25%        30.500000  2.015112e+07       0.000000       1.020000   \n",
              "50%        88.460000  2.015112e+07       0.000000       1.060000   \n",
              "75%       187.780000  2.015120e+07       0.000000       1.130000   \n",
              "max     24927.500000  2.015123e+07       1.000000      11.680000   \n",
              "\n",
              "                num3       num4      num5                        num6  \\\n",
              "count  169181.000000  169181.000000      169181.000000  169181.000000   \n",
              "mean        0.981035     159.726163           2.420819       8.829614   \n",
              "std         0.080651    3260.382188           6.967517       3.708434   \n",
              "min         0.290000       0.000000           0.000029       1.000000   \n",
              "25%         0.930000      24.000000           0.358512       6.000000   \n",
              "50%         0.960000      96.000000           0.936000       9.000000   \n",
              "75%         1.010000     192.000000           2.454249      11.000000   \n",
              "max         2.410000  402528.000000        1148.680000      35.000000   \n",
              "\n",
              "       net_revenue    \n",
              "count  169181.000000  \n",
              "mean        1.047490  \n",
              "std        16.636636  \n",
              "min         0.000000  \n",
              "25%         0.000000  \n",
              "50%         0.000000  \n",
              "75%         0.000000  \n",
              "max      1611.630252  "
            ],
            "text/html": [
              "<div>\n",
              "<style scoped>\n",
              "    .dataframe tbody tr th:only-of-type {\n",
              "        vertical-align: middle;\n",
              "    }\n",
              "\n",
              "    .dataframe tbody tr th {\n",
              "        vertical-align: top;\n",
              "    }\n",
              "\n",
              "    .dataframe thead th {\n",
              "        text-align: right;\n",
              "    }\n",
              "</style>\n",
              "<table border=\"1\" class=\"dataframe\">\n",
              "  <thead>\n",
              "    <tr style=\"text-align: right;\">\n",
              "      <th></th>\n",
              "      <th>net_price</th>\n",
              "      <th>day_id</th>\n",
              "      <th>num1</th>\n",
              "      <th>num2</th>\n",
              "      <th>num3</th>\n",
              "      <th>num4</th>\n",
              "      <th>num5</th>\n",
              "      <th>num6</th>\n",
              "      <th>net_revenue</th>\n",
              "    </tr>\n",
              "  </thead>\n",
              "  <tbody>\n",
              "    <tr>\n",
              "      <th>count</th>\n",
              "      <td>169181.000000</td>\n",
              "      <td>1.691810e+05</td>\n",
              "      <td>169181.000000</td>\n",
              "      <td>169181.000000</td>\n",
              "      <td>169181.000000</td>\n",
              "      <td>169181.000000</td>\n",
              "      <td>169181.000000</td>\n",
              "      <td>169181.000000</td>\n",
              "      <td>169181.000000</td>\n",
              "    </tr>\n",
              "    <tr>\n",
              "      <th>mean</th>\n",
              "      <td>153.063780</td>\n",
              "      <td>2.015115e+07</td>\n",
              "      <td>0.205472</td>\n",
              "      <td>1.086697</td>\n",
              "      <td>0.981035</td>\n",
              "      <td>159.726163</td>\n",
              "      <td>2.420819</td>\n",
              "      <td>8.829614</td>\n",
              "      <td>1.047490</td>\n",
              "    </tr>\n",
              "    <tr>\n",
              "      <th>std</th>\n",
              "      <td>242.471639</td>\n",
              "      <td>4.919680e+01</td>\n",
              "      <td>0.404047</td>\n",
              "      <td>0.103898</td>\n",
              "      <td>0.080651</td>\n",
              "      <td>3260.382188</td>\n",
              "      <td>6.967517</td>\n",
              "      <td>3.708434</td>\n",
              "      <td>16.636636</td>\n",
              "    </tr>\n",
              "    <tr>\n",
              "      <th>min</th>\n",
              "      <td>0.040000</td>\n",
              "      <td>2.015110e+07</td>\n",
              "      <td>0.000000</td>\n",
              "      <td>0.520000</td>\n",
              "      <td>0.290000</td>\n",
              "      <td>0.000000</td>\n",
              "      <td>0.000029</td>\n",
              "      <td>1.000000</td>\n",
              "      <td>0.000000</td>\n",
              "    </tr>\n",
              "    <tr>\n",
              "      <th>25%</th>\n",
              "      <td>30.500000</td>\n",
              "      <td>2.015112e+07</td>\n",
              "      <td>0.000000</td>\n",
              "      <td>1.020000</td>\n",
              "      <td>0.930000</td>\n",
              "      <td>24.000000</td>\n",
              "      <td>0.358512</td>\n",
              "      <td>6.000000</td>\n",
              "      <td>0.000000</td>\n",
              "    </tr>\n",
              "    <tr>\n",
              "      <th>50%</th>\n",
              "      <td>88.460000</td>\n",
              "      <td>2.015112e+07</td>\n",
              "      <td>0.000000</td>\n",
              "      <td>1.060000</td>\n",
              "      <td>0.960000</td>\n",
              "      <td>96.000000</td>\n",
              "      <td>0.936000</td>\n",
              "      <td>9.000000</td>\n",
              "      <td>0.000000</td>\n",
              "    </tr>\n",
              "    <tr>\n",
              "      <th>75%</th>\n",
              "      <td>187.780000</td>\n",
              "      <td>2.015120e+07</td>\n",
              "      <td>0.000000</td>\n",
              "      <td>1.130000</td>\n",
              "      <td>1.010000</td>\n",
              "      <td>192.000000</td>\n",
              "      <td>2.454249</td>\n",
              "      <td>11.000000</td>\n",
              "      <td>0.000000</td>\n",
              "    </tr>\n",
              "    <tr>\n",
              "      <th>max</th>\n",
              "      <td>24927.500000</td>\n",
              "      <td>2.015123e+07</td>\n",
              "      <td>1.000000</td>\n",
              "      <td>11.680000</td>\n",
              "      <td>2.410000</td>\n",
              "      <td>402528.000000</td>\n",
              "      <td>1148.680000</td>\n",
              "      <td>35.000000</td>\n",
              "      <td>1611.630252</td>\n",
              "    </tr>\n",
              "  </tbody>\n",
              "</table>\n",
              "</div>"
            ]
          },
          "metadata": {
            "tags": []
          },
          "execution_count": 282
        }
      ]
    },
    {
      "cell_type": "code",
      "metadata": {
        "colab": {
          "base_uri": "https://localhost:8080/"
        },
        "id": "qeD7cdi7KKX_",
        "outputId": "68050bbe-6d75-463d-c9e4-84a13b4a0c1a"
      },
      "source": [
        "#Clean the col names\n",
        "\n",
        "train_data.columns = [col.strip() for col in train_data.columns]\n",
        "train_data.columns\n",
        "\n",
        "test_data.columns = [col.strip() for col in test_data.columns]\n",
        "test_data.columns"
      ],
      "execution_count": 318,
      "outputs": [
        {
          "output_type": "execute_result",
          "data": {
            "text/plain": [
              "Index(['net_price', 'day_id', 'num1', 'num2', 'num3', 'num4', 'num5', 'num6',\n",
              "       'cat1', 'cat2', 'cat3'],\n",
              "      dtype='object')"
            ]
          },
          "metadata": {
            "tags": []
          },
          "execution_count": 318
        }
      ]
    },
    {
      "cell_type": "code",
      "metadata": {
        "colab": {
          "base_uri": "https://localhost:8080/"
        },
        "id": "JSKVNhFbKdZV",
        "outputId": "8fb38445-59c6-41f2-942b-82deaa80047c"
      },
      "source": [
        "#Analysing categorical features\n",
        "\n",
        "print(train_data[['cat1', 'cat2', 'cat3']].nunique())\n",
        "\n",
        "df = train_data.groupby('cat1').agg({'net_price': 'nunique'}).reset_index()\n",
        "print(df[df.net_price>4].count()/df.count())\n",
        "\n",
        "# df.plot(x='cat1', y='net_price')\n",
        "# df.plot(x='cat1', y='net_revenue')"
      ],
      "execution_count": 284,
      "outputs": [
        {
          "output_type": "stream",
          "text": [
            "cat1    16794\n",
            "cat2      652\n",
            "cat3     1975\n",
            "dtype: int64\n",
            "cat1         0.003156\n",
            "net_price    0.003156\n",
            "dtype: float64\n"
          ],
          "name": "stdout"
        }
      ]
    },
    {
      "cell_type": "code",
      "metadata": {
        "colab": {
          "base_uri": "https://localhost:8080/"
        },
        "id": "mheKnVrNbTpd",
        "outputId": "4adf9a7c-8563-44e7-f6bb-2b74c43f6a14"
      },
      "source": [
        "#Analysing categorical features\n",
        "\n",
        "df = train_data.groupby('cat1').agg({'cat2': 'nunique'}).reset_index()\n",
        "print(df[df.cat2>1].count()/df.count())\n",
        "\n",
        "df = train_data.groupby('cat1').agg({'cat3': 'nunique'}).reset_index()\n",
        "print(df[df.cat3>1].count()/df.count())"
      ],
      "execution_count": 285,
      "outputs": [
        {
          "output_type": "stream",
          "text": [
            "cat1    0.0\n",
            "cat2    0.0\n",
            "dtype: float64\n",
            "cat1    0.0\n",
            "cat3    0.0\n",
            "dtype: float64\n"
          ],
          "name": "stdout"
        }
      ]
    },
    {
      "cell_type": "code",
      "metadata": {
        "colab": {
          "base_uri": "https://localhost:8080/",
          "height": 282
        },
        "id": "9FTdt4jxdzIq",
        "outputId": "3a72dbf7-2db9-45bc-d24a-ba31bca96579"
      },
      "source": [
        "plt.scatter(np.log(train_data[train_data.num4<600]['net_price']),\n",
        "                          (train_data[train_data.num4<600]['num4']))"
      ],
      "execution_count": 286,
      "outputs": [
        {
          "output_type": "execute_result",
          "data": {
            "text/plain": [
              "<matplotlib.collections.PathCollection at 0x7f34c4d3b760>"
            ]
          },
          "metadata": {
            "tags": []
          },
          "execution_count": 286
        },
        {
          "output_type": "display_data",
          "data": {
            "text/plain": [
              "<Figure size 432x288 with 1 Axes>"
            ],
            "image/png": "[encoded data removed]"
          },
          "metadata": {
            "tags": [],
            "needs_background": "light"
          }
        }
      ]
    },
    {
      "cell_type": "code",
      "metadata": {
        "id": "DNCHetDkhAU0"
      },
      "source": [
        "# plt.scatter((train_data[train_data.num4<600]['day_id']),\n",
        "                          # (train_data[train_data.num4<600]['num4']))\n",
        "\n",
        "df = train_data.copy()\n",
        "df['day_id'] = pd.to_datetime(df['day_id'], format='%Y%m%d')\n",
        "df['doy'] = df['day_id'].dt.dayofyear\n",
        "\n",
        "df['price_var'] = df.groupby('cat1')['net_price']\\\n",
        "                                  .transform(lambda x: (1-x/x.mode().values[0]))\n",
        "\n",
        "# [train_data.num4<600]"
      ],
      "execution_count": 287,
      "outputs": []
    },
    {
      "cell_type": "markdown",
      "metadata": {
        "id": "SEqavS6CmyEP"
      },
      "source": [
        "#Checking for multicollinearity in numerical features"
      ]
    },
    {
      "cell_type": "code",
      "metadata": {
        "colab": {
          "base_uri": "https://localhost:8080/",
          "height": 297
        },
        "id": "hVyOIDOOF3CR",
        "outputId": "d2230802-f74a-4822-e73e-ffcf5b71fe53"
      },
      "source": [
        "#Computing VIFs for all features\n",
        "\n",
        "def check_multiCollinearity(df):\n",
        "\n",
        "    #Cal variance inflation factor\n",
        "    vif = pd.DataFrame()\n",
        "    vif[\"variables\"] = df.columns\n",
        "    vif[\"VIF\"] = [variance_inflation_factor(df.values, i) for i in range(df.shape[1])]\n",
        "\n",
        "    return(vif)\n",
        "\n",
        "vif = check_multiCollinearity(df[['num1', 'num3', 'num6', 'num4', 'num5', \n",
        "                                  'net_price', 'net_revenue', 'price_var']])\n",
        "vif"
      ],
      "execution_count": 288,
      "outputs": [
        {
          "output_type": "execute_result",
          "data": {
            "text/plain": [
              "     variables       VIF\n",
              "0         num1  1.255517\n",
              "1         num3  7.171991\n",
              "2         num6  6.683893\n",
              "3         num4  1.002693\n",
              "4         num5  1.251579\n",
              "5    net_price  1.557684\n",
              "6  net_revenue  1.003946\n",
              "7    price_var  1.001651"
            ],
            "text/html": [
              "<div>\n",
              "<style scoped>\n",
              "    .dataframe tbody tr th:only-of-type {\n",
              "        vertical-align: middle;\n",
              "    }\n",
              "\n",
              "    .dataframe tbody tr th {\n",
              "        vertical-align: top;\n",
              "    }\n",
              "\n",
              "    .dataframe thead th {\n",
              "        text-align: right;\n",
              "    }\n",
              "</style>\n",
              "<table border=\"1\" class=\"dataframe\">\n",
              "  <thead>\n",
              "    <tr style=\"text-align: right;\">\n",
              "      <th></th>\n",
              "      <th>variables</th>\n",
              "      <th>VIF</th>\n",
              "    </tr>\n",
              "  </thead>\n",
              "  <tbody>\n",
              "    <tr>\n",
              "      <th>0</th>\n",
              "      <td>num1</td>\n",
              "      <td>1.255517</td>\n",
              "    </tr>\n",
              "    <tr>\n",
              "      <th>1</th>\n",
              "      <td>num3</td>\n",
              "      <td>7.171991</td>\n",
              "    </tr>\n",
              "    <tr>\n",
              "      <th>2</th>\n",
              "      <td>num6</td>\n",
              "      <td>6.683893</td>\n",
              "    </tr>\n",
              "    <tr>\n",
              "      <th>3</th>\n",
              "      <td>num4</td>\n",
              "      <td>1.002693</td>\n",
              "    </tr>\n",
              "    <tr>\n",
              "      <th>4</th>\n",
              "      <td>num5</td>\n",
              "      <td>1.251579</td>\n",
              "    </tr>\n",
              "    <tr>\n",
              "      <th>5</th>\n",
              "      <td>net_price</td>\n",
              "      <td>1.557684</td>\n",
              "    </tr>\n",
              "    <tr>\n",
              "      <th>6</th>\n",
              "      <td>net_revenue</td>\n",
              "      <td>1.003946</td>\n",
              "    </tr>\n",
              "    <tr>\n",
              "      <th>7</th>\n",
              "      <td>price_var</td>\n",
              "      <td>1.001651</td>\n",
              "    </tr>\n",
              "  </tbody>\n",
              "</table>\n",
              "</div>"
            ]
          },
          "metadata": {
            "tags": []
          },
          "execution_count": 288
        }
      ]
    },
    {
      "cell_type": "code",
      "metadata": {
        "colab": {
          "base_uri": "https://localhost:8080/",
          "height": 282
        },
        "id": "WF_hqnAAJ5Rd",
        "outputId": "d009df76-838a-47ee-9c03-4eac0af1034b"
      },
      "source": [
        "plt.scatter(df['num2'], df['num6'])"
      ],
      "execution_count": 289,
      "outputs": [
        {
          "output_type": "execute_result",
          "data": {
            "text/plain": [
              "<matplotlib.collections.PathCollection at 0x7f34cc98e8b0>"
            ]
          },
          "metadata": {
            "tags": []
          },
          "execution_count": 289
        },
        {
          "output_type": "display_data",
          "data": {
            "text/plain": [
              "<Figure size 432x288 with 1 Axes>"
            ],
            "image/png": "[encoded data removed]"
          },
          "metadata": {
            "tags": [],
            "needs_background": "light"
          }
        }
      ]
    },
    {
      "cell_type": "code",
      "metadata": {
        "colab": {
          "base_uri": "https://localhost:8080/",
          "height": 1000
        },
        "id": "833sLrT6P8kD",
        "outputId": "64cab218-6d77-4176-eefb-b139884abae9"
      },
      "source": [
        "#Create histogram from numerical variables\n",
        "\n",
        "train_data.hist(bins=20, figsize=(20, 20))\n",
        "plt.show()"
      ],
      "execution_count": 290,
      "outputs": [
        {
          "output_type": "display_data",
          "data": {
            "text/plain": [
              "<Figure size 1440x1440 with 9 Axes>"
            ],
            "image/png": "[encoded data removed]"
          },
          "metadata": {
            "tags": [],
            "needs_background": "light"
          }
        }
      ]
    },
    {
      "cell_type": "code",
      "metadata": {
        "colab": {
          "base_uri": "https://localhost:8080/",
          "height": 282
        },
        "id": "VMi6JNdHgVF5",
        "outputId": "828af75d-dcce-4c30-b95d-67225a90bf07"
      },
      "source": [
        "np.log(train_data['net_price']).hist(bins=50)\n",
        "plt.xlim(0.001, 10)"
      ],
      "execution_count": 291,
      "outputs": [
        {
          "output_type": "execute_result",
          "data": {
            "text/plain": [
              "(0.001, 10.0)"
            ]
          },
          "metadata": {
            "tags": []
          },
          "execution_count": 291
        },
        {
          "output_type": "display_data",
          "data": {
            "text/plain": [
              "<Figure size 432x288 with 1 Axes>"
            ],
            "image/png": "[encoded data removed]"
          },
          "metadata": {
            "tags": [],
            "needs_background": "light"
          }
        }
      ]
    },
    {
      "cell_type": "code",
      "metadata": {
        "colab": {
          "base_uri": "https://localhost:8080/",
          "height": 282
        },
        "id": "pDw9UyQAiff6",
        "outputId": "2667ee72-b793-4b95-897b-58355138c902"
      },
      "source": [
        "np.log(train_data[train_data.net_revenue>0.01]['net_revenue']+0.00001).hist(bins=50, density=True)\n",
        "# plt.xlim(0.001, 200)"
      ],
      "execution_count": 292,
      "outputs": [
        {
          "output_type": "execute_result",
          "data": {
            "text/plain": [
              "<matplotlib.axes._subplots.AxesSubplot at 0x7f34b20049d0>"
            ]
          },
          "metadata": {
            "tags": []
          },
          "execution_count": 292
        },
        {
          "output_type": "display_data",
          "data": {
            "text/plain": [
              "<Figure size 432x288 with 1 Axes>"
            ],
            "image/png": "[encoded data removed]"
          },
          "metadata": {
            "tags": [],
            "needs_background": "light"
          }
        }
      ]
    },
    {
      "cell_type": "code",
      "metadata": {
        "id": "i7iLGzEQItEh"
      },
      "source": [
        "#Create new features as describe above\n",
        "\n",
        "train_x = train_data.drop(['net_revenue'], axis=1)\n",
        "train_y = train_data['net_revenue'].copy()\n",
        "\n",
        "train_clf_y = np.where(train_data['net_revenue']>0, 1, 0)\n",
        "# train_data['net_revenue'].apply(lambda x: 1 if x>0 else 0)\n",
        "\n",
        "#Converting day_id to day of the week\n",
        "\n",
        "train_x['day_id'] = pd.to_datetime(train_x['day_id'], format='%Y%m%d')\n",
        "train_x['dow'] = train_x['day_id'].dt.day_name()\n",
        "\n",
        "test_data['day_id'] = pd.to_datetime(test_data['day_id'], format='%Y%m%d')\n",
        "test_data['dow'] = test_data['day_id'].dt.day_name()\n",
        "\n",
        "#Price variation in cat1\n",
        "\n",
        "train_x['price_var'] = train_x.groupby('cat1')['net_price']\\\n",
        "                                  .transform(lambda x: (1-x/x.mode().values[0]))\n",
        "\n",
        "test_data['price_var'] = test_data.groupby('cat1')['net_price']\\\n",
        "                                  .transform(lambda x: (1-x/x.mode().values[0]))                                  \n",
        "\n",
        "#Numerical features\n",
        "\n",
        "#num2 and num3 are highly correlated with num6, so dropping num2 and num3\n",
        "num_ft = ['net_price', 'num1', 'num4', 'num5', 'num6', 'price_var']\n",
        "\n",
        "#log transform features\n",
        "log_ft = ['net_price', 'num5']\n",
        "\n",
        "#cat is encoded as 'price_var' so dropped here\n",
        "ohe_ft = ['dow']\n",
        "hash_ft = ['cat2', 'cat3']\n"
      ],
      "execution_count": 319,
      "outputs": []
    },
    {
      "cell_type": "markdown",
      "metadata": {
        "id": "b4e3IhugmIpt"
      },
      "source": [
        "#Pipeline to prepare numerical and categorical features"
      ]
    },
    {
      "cell_type": "code",
      "metadata": {
        "id": "w0tL8A5CymDL"
      },
      "source": [
        "num_pipeline = Pipeline([\n",
        "                         ('imputer', SimpleImputer(strategy='median')),\n",
        "                         ('scaler', StandardScaler())\n",
        "                        ])\n",
        "\n",
        "cat_pipeline = Pipeline([\n",
        "    ('imputer', SimpleImputer(strategy='constant', fill_value='missing')),\n",
        "    ('hashing', ce.hashing.HashingEncoder()) #Hashing encoder for high cardinality features\n",
        "    ])\n",
        "    \n",
        "feature_process = ColumnTransformer([\n",
        "        ('num', num_pipeline, num_ft),\n",
        "        ('log', FunctionTransformer(np.log), log_ft),\n",
        "        ('cat', cat_pipeline, hash_ft),\n",
        "        ('ohe', OneHotEncoder(), ohe_ft)\n",
        "        ])\n",
        "    \n",
        "full_pipeline = Pipeline([('feature_process', feature_process),\n",
        "                 ('rf', RandomForestRegressor(random_state=123))])\n",
        "\n",
        "#Transformed features\n",
        "X = feature_process.fit_transform(train_x)\n",
        "y = np.log(train_y + 0.000001)"
      ],
      "execution_count": 315,
      "outputs": []
    },
    {
      "cell_type": "markdown",
      "metadata": {
        "id": "C7W5lonRoYDc"
      },
      "source": [
        "#Direct regression approach"
      ]
    },
    {
      "cell_type": "markdown",
      "metadata": {
        "id": "1sFU1mHJvi00"
      },
      "source": [
        "Grid search on pipeline parameters and RandomForestRegressor"
      ]
    },
    {
      "cell_type": "code",
      "metadata": {
        "colab": {
          "base_uri": "https://localhost:8080/"
        },
        "id": "htB3bkX6CrPQ",
        "outputId": "1692fc55-b4a8-4c52-9f37-0956fa35d535"
      },
      "source": [
        "param_grid = [\n",
        "              {'rf__n_estimators': [200, 300, 400], \n",
        "               'rf__max_features': [8, 10],\n",
        "               'feature_process__cat__hashing__n_components': [10, 30]\n",
        "               }\n",
        "              ]\n",
        "\n",
        "grid_search = GridSearchCV(full_pipeline, param_grid, cv=5, scoring='neg_mean_squared_error', \n",
        "                           return_train_score=True, n_jobs=-1, verbose=3)\n",
        "\n",
        "grid_search.fit(train_x, y)"
      ],
      "execution_count": 310,
      "outputs": [
        {
          "output_type": "stream",
          "text": [
            "Fitting 5 folds for each of 12 candidates, totalling 60 fits\n"
          ],
          "name": "stdout"
        },
        {
          "output_type": "stream",
          "text": [
            "[Parallel(n_jobs=-1)]: Using backend LokyBackend with 6 concurrent workers.\n",
            "[Parallel(n_jobs=-1)]: Done  20 tasks      | elapsed:   33.7s\n",
            "[Parallel(n_jobs=-1)]: Done  60 out of  60 | elapsed:  1.3min finished\n"
          ],
          "name": "stderr"
        },
        {
          "output_type": "execute_result",
          "data": {
            "text/plain": [
              "GridSearchCV(cv=5,\n",
              "             estimator=Pipeline(steps=[('feature_process',\n",
              "                                        ColumnTransformer(transformers=[('num',\n",
              "                                                                         Pipeline(steps=[('imputer',\n",
              "                                                                                          SimpleImputer(strategy='median')),\n",
              "                                                                                         ('scaler',\n",
              "                                                                                          StandardScaler())]),\n",
              "                                                                         ['net_price',\n",
              "                                                                          'num1',\n",
              "                                                                          'num4',\n",
              "                                                                          'num5',\n",
              "                                                                          'num6',\n",
              "                                                                          'price_var']),\n",
              "                                                                        ('log',\n",
              "                                                                         FunctionTransformer(func=<ufunc 'log'>),\n",
              "                                                                         ['net_price',\n",
              "                                                                          'num5']),\n",
              "                                                                        ('cat',\n",
              "                                                                         Pipeline(steps=[('imputer',...\n",
              "                                                                                         ('hashing',\n",
              "                                                                                          HashingEncoder(max_process=3))]),\n",
              "                                                                         ['cat2',\n",
              "                                                                          'cat3']),\n",
              "                                                                        ('ohe',\n",
              "                                                                         OneHotEncoder(),\n",
              "                                                                         ['dow'])])),\n",
              "                                       ('rf',\n",
              "                                        RandomForestRegressor(random_state=123))]),\n",
              "             n_jobs=-1,\n",
              "             param_grid=[{'feature_process__cat__hashing__n_components': [10,\n",
              "                                                                          30],\n",
              "                          'rf__max_features': [8, 10],\n",
              "                          'rf__n_estimators': [200, 300, 400]}],\n",
              "             return_train_score=True, scoring='neg_mean_squared_error',\n",
              "             verbose=3)"
            ]
          },
          "metadata": {
            "tags": []
          },
          "execution_count": 310
        }
      ]
    },
    {
      "cell_type": "code",
      "metadata": {
        "colab": {
          "base_uri": "https://localhost:8080/"
        },
        "id": "VwT_DiB63QBJ",
        "outputId": "e0de818c-3c78-4853-b6a3-7c8ac8e99bb5"
      },
      "source": [
        "grid_search.best_params_"
      ],
      "execution_count": 311,
      "outputs": [
        {
          "output_type": "execute_result",
          "data": {
            "text/plain": [
              "{'feature_process__cat__hashing__n_components': 10,\n",
              " 'rf__max_features': 8,\n",
              " 'rf__n_estimators': 200}"
            ]
          },
          "metadata": {
            "tags": []
          },
          "execution_count": 311
        }
      ]
    },
    {
      "cell_type": "markdown",
      "metadata": {
        "id": "d5HkNMvW4zJM"
      },
      "source": [
        "#Performance evaluation on a random split validation set"
      ]
    },
    {
      "cell_type": "code",
      "metadata": {
        "colab": {
          "base_uri": "https://localhost:8080/"
        },
        "id": "eCroqD9M7Pin",
        "outputId": "388db4cd-4e50-401f-f084-603919a81923"
      },
      "source": [
        "grid_search.best_estimator_[1]"
      ],
      "execution_count": 328,
      "outputs": [
        {
          "output_type": "execute_result",
          "data": {
            "text/plain": [
              "RandomForestRegressor(max_features=8, n_estimators=200, random_state=123)"
            ]
          },
          "metadata": {
            "tags": []
          },
          "execution_count": 328
        }
      ]
    },
    {
      "cell_type": "code",
      "metadata": {
        "colab": {
          "base_uri": "https://localhost:8080/"
        },
        "id": "xjAyVSHR5RlD",
        "outputId": "a43aed1e-1f1b-4adf-a122-1bc98a57a40c"
      },
      "source": [
        "#Create the random split for validation\n",
        "\n",
        "_, val_x, _, val_y = train_test_split(train_x, y, test_size=0.2, random_state=123)\n",
        "\n",
        "\n",
        "#Prediction with best estimator\n",
        "\n",
        "val_x_prep = grid_search.best_estimator_[0].transform(val_x)\n",
        "model = grid_search.best_estimator_[1]\n",
        "\n",
        "pred = model.predict(val_x_prep)\n",
        "\n",
        "val_mse = mean_squared_error(val_y, pred)\n",
        "val_rmse = np.sqrt(val_mse)\n",
        "print(\"RMSE for revenue prediction::\", val_rmse)\n"
      ],
      "execution_count": 348,
      "outputs": [
        {
          "output_type": "stream",
          "text": [
            "RMSE for revenue prediction:: 1.2804136805848636\n"
          ],
          "name": "stdout"
        }
      ]
    },
    {
      "cell_type": "markdown",
      "metadata": {
        "id": "0fIktLYR1QVG"
      },
      "source": [
        "#Prediction on test set"
      ]
    },
    {
      "cell_type": "code",
      "metadata": {
        "id": "UpHOUCEE4M4a"
      },
      "source": [
        "#Prediction with best estimator from the grid search\n",
        "\n",
        "test_x_prep = grid_search.best_estimator_[0].transform(test_data)\n",
        "model = grid_search.best_estimator_[1]\n",
        "\n",
        "final_pred = model.predict(test_x_prep)"
      ],
      "execution_count": 350,
      "outputs": []
    },
    {
      "cell_type": "code",
      "metadata": {
        "colab": {
          "base_uri": "https://localhost:8080/"
        },
        "id": "xma9Y8wYBkvm",
        "outputId": "a642c8ea-3c23-4d63-aca3-f23b4c08016a"
      },
      "source": [
        "len(test_data)"
      ],
      "execution_count": 357,
      "outputs": [
        {
          "output_type": "execute_result",
          "data": {
            "text/plain": [
              "97486"
            ]
          },
          "metadata": {
            "tags": []
          },
          "execution_count": 357
        }
      ]
    },
    {
      "cell_type": "code",
      "metadata": {
        "colab": {
          "base_uri": "https://localhost:8080/"
        },
        "id": "QB38kIKBBmEn",
        "outputId": "4b9c8ec2-0e35-4e46-b746-89d374a4f4a6"
      },
      "source": [
        "len(final_pred)"
      ],
      "execution_count": 358,
      "outputs": [
        {
          "output_type": "execute_result",
          "data": {
            "text/plain": [
              "97486"
            ]
          },
          "metadata": {
            "tags": []
          },
          "execution_count": 358
        }
      ]
    },
    {
      "cell_type": "code",
      "metadata": {
        "id": "YJ5QB66JAq_J"
      },
      "source": [
        "final_pred_tr = pd.DataFrame(np.exp(final_pred), columns=['revenue_prediction'])\n",
        "\n",
        "test_output = pd.concat([test_data, final_pred_tr], axis=1)\n",
        "test_output.head()\n",
        "\n",
        "test_output.to_csv('Documents/DS_Projects/PLAclick_revenue_out.csv')"
      ],
      "execution_count": 364,
      "outputs": []
    },
    {
      "cell_type": "code",
      "metadata": {
        "colab": {
          "base_uri": "https://localhost:8080/"
        },
        "id": "BptT3HNTBp_-",
        "outputId": "86f535fd-4626-4ef1-c78e-ca848bedf9f4"
      },
      "source": [
        "final_pred_tr.info()"
      ],
      "execution_count": 359,
      "outputs": [
        {
          "output_type": "stream",
          "text": [
            "<class 'pandas.core.frame.DataFrame'>\n",
            "RangeIndex: 97486 entries, 0 to 97485\n",
            "Data columns (total 1 columns):\n",
            " #   Column              Non-Null Count  Dtype  \n",
            "---  ------              --------------  -----  \n",
            " 0   revenue_prediction  97486 non-null  float64\n",
            "dtypes: float64(1)\n",
            "memory usage: 761.7 KB\n"
          ],
          "name": "stdout"
        }
      ]
    },
    {
      "cell_type": "markdown",
      "metadata": {
        "id": "uXEZ6Ib5DyoG"
      },
      "source": [
        "#Alternative approach attempted below but not completed"
      ]
    },
    {
      "cell_type": "markdown",
      "metadata": {
        "id": "dRgD_9lJ1PVn"
      },
      "source": [
        "#Classification for sales/No sales\n"
      ]
    },
    {
      "cell_type": "code",
      "metadata": {
        "id": "SaIY4oVD8HQQ"
      },
      "source": [
        "full_pipeline = Pipeline([('feature_process', feature_process),\n",
        "                 ('clf', LogisticRegression())])\n",
        "\n",
        "grid_params = {\n",
        "          'feature_process__cat__hashing__n_components': [5],#, 10, 30],\n",
        "          'clf__penalty': ['l2'],\n",
        "          'clf__solver': ['lbfgs'],#, 'newton-cg', 'liblinear'],\n",
        "          'clf__C': [0.0001, 0.001, 0.01]\n",
        "          }\n",
        "\n",
        "grid_search = GridSearchCV(full_pipeline, grid_params, cv=5,\n",
        "                           scoring='f1', verbose=2, n_jobs=-1)\n",
        "grid_search.fit(train_x, train_clf_y)"
      ],
      "execution_count": null,
      "outputs": []
    },
    {
      "cell_type": "code",
      "metadata": {
        "colab": {
          "base_uri": "https://localhost:8080/"
        },
        "id": "52OX3VzunwQ-",
        "outputId": "ea1dff5b-2a49-4118-95d8-a0ba5cae7f67"
      },
      "source": [
        "grid_search.best_params_"
      ],
      "execution_count": 183,
      "outputs": [
        {
          "output_type": "execute_result",
          "data": {
            "text/plain": [
              "{'clf__C': 0.0001,\n",
              " 'clf__penalty': 'l2',\n",
              " 'clf__solver': 'lbfgs',\n",
              " 'feature_process__cat__hashing__n_components': 5}"
            ]
          },
          "metadata": {
            "tags": []
          },
          "execution_count": 183
        }
      ]
    },
    {
      "cell_type": "code",
      "metadata": {
        "colab": {
          "base_uri": "https://localhost:8080/"
        },
        "id": "OeN0otX5xrQb",
        "outputId": "10dabd9f-4bf9-4284-b0a5-a735d4baba1b"
      },
      "source": [
        "results = grid_search.cv_results_\n",
        "results\n"
      ],
      "execution_count": 184,
      "outputs": [
        {
          "output_type": "execute_result",
          "data": {
            "text/plain": [
              "{'mean_fit_time': array([0.71424403, 0.82168345, 0.84228492]),\n",
              " 'std_fit_time': array([0.01117106, 0.06249077, 0.03429017]),\n",
              " 'mean_score_time': array([0., 0., 0.]),\n",
              " 'std_score_time': array([0., 0., 0.]),\n",
              " 'param_clf__C': masked_array(data=[0.0001, 0.001, 0.01],\n",
              "              mask=[False, False, False],\n",
              "        fill_value='?',\n",
              "             dtype=object),\n",
              " 'param_clf__penalty': masked_array(data=['l2', 'l2', 'l2'],\n",
              "              mask=[False, False, False],\n",
              "        fill_value='?',\n",
              "             dtype=object),\n",
              " 'param_clf__solver': masked_array(data=['lbfgs', 'lbfgs', 'lbfgs'],\n",
              "              mask=[False, False, False],\n",
              "        fill_value='?',\n",
              "             dtype=object),\n",
              " 'param_feature_process__cat__hashing__n_components': masked_array(data=[5, 5, 5],\n",
              "              mask=[False, False, False],\n",
              "        fill_value='?',\n",
              "             dtype=object),\n",
              " 'params': [{'clf__C': 0.0001,\n",
              "   'clf__penalty': 'l2',\n",
              "   'clf__solver': 'lbfgs',\n",
              "   'feature_process__cat__hashing__n_components': 5},\n",
              "  {'clf__C': 0.001,\n",
              "   'clf__penalty': 'l2',\n",
              "   'clf__solver': 'lbfgs',\n",
              "   'feature_process__cat__hashing__n_components': 5},\n",
              "  {'clf__C': 0.01,\n",
              "   'clf__penalty': 'l2',\n",
              "   'clf__solver': 'lbfgs',\n",
              "   'feature_process__cat__hashing__n_components': 5}],\n",
              " 'split0_test_score': array([nan, nan, nan]),\n",
              " 'split1_test_score': array([nan, nan, nan]),\n",
              " 'split2_test_score': array([nan, nan, nan]),\n",
              " 'split3_test_score': array([nan, nan, nan]),\n",
              " 'split4_test_score': array([nan, nan, nan]),\n",
              " 'mean_test_score': array([nan, nan, nan]),\n",
              " 'std_test_score': array([nan, nan, nan]),\n",
              " 'rank_test_score': array([1, 2, 3], dtype=int32)}"
            ]
          },
          "metadata": {
            "tags": []
          },
          "execution_count": 184
        }
      ]
    },
    {
      "cell_type": "code",
      "metadata": {
        "colab": {
          "base_uri": "https://localhost:8080/"
        },
        "id": "Hc-WBHFV9EkQ",
        "outputId": "9fb984b3-9049-4727-8bdf-d69290b1892d"
      },
      "source": [
        "X.shape"
      ],
      "execution_count": 246,
      "outputs": [
        {
          "output_type": "execute_result",
          "data": {
            "text/plain": [
              "(169181, 8)"
            ]
          },
          "metadata": {
            "tags": []
          },
          "execution_count": 246
        }
      ]
    },
    {
      "cell_type": "code",
      "metadata": {
        "id": "jVMYJtzD445I"
      },
      "source": [
        "lr = LogisticRegression()"
      ],
      "execution_count": 247,
      "outputs": []
    },
    {
      "cell_type": "code",
      "metadata": {
        "colab": {
          "base_uri": "https://localhost:8080/"
        },
        "id": "rtSZyQdJ2lhM",
        "outputId": "976465d1-313f-4517-c094-e891e1edf110"
      },
      "source": [
        "cross_val_score(lr, X, train_clf_y, cv=3, scoring='f1', verbose=3)"
      ],
      "execution_count": 248,
      "outputs": [
        {
          "output_type": "stream",
          "text": [
            "[Parallel(n_jobs=1)]: Using backend SequentialBackend with 1 concurrent workers.\n"
          ],
          "name": "stderr"
        },
        {
          "output_type": "stream",
          "text": [
            "[CV]  ................................................................\n",
            "[CV] .................................... , score=0.000, total=   0.2s\n",
            "[CV]  ................................................................\n",
            "[CV] .................................... , score=0.000, total=   0.2s\n",
            "[CV]  ................................................................\n"
          ],
          "name": "stdout"
        },
        {
          "output_type": "stream",
          "text": [
            "[Parallel(n_jobs=1)]: Done   1 out of   1 | elapsed:    0.3s remaining:    0.0s\n",
            "[Parallel(n_jobs=1)]: Done   2 out of   2 | elapsed:    0.5s remaining:    0.0s\n"
          ],
          "name": "stderr"
        },
        {
          "output_type": "stream",
          "text": [
            "[CV] .................................... , score=0.000, total=   0.1s\n"
          ],
          "name": "stdout"
        },
        {
          "output_type": "stream",
          "text": [
            "[Parallel(n_jobs=1)]: Done   3 out of   3 | elapsed:    0.6s finished\n"
          ],
          "name": "stderr"
        },
        {
          "output_type": "execute_result",
          "data": {
            "text/plain": [
              "array([0., 0., 0.])"
            ]
          },
          "metadata": {
            "tags": []
          },
          "execution_count": 248
        }
      ]
    },
    {
      "cell_type": "code",
      "metadata": {
        "id": "ka1ijQbg3TFv"
      },
      "source": [
        "y_pred = cross_val_predict(lr, X, train_clf_y, cv=3)\n"
      ],
      "execution_count": 249,
      "outputs": []
    },
    {
      "cell_type": "code",
      "metadata": {
        "colab": {
          "base_uri": "https://localhost:8080/"
        },
        "id": "3wK-aVTx4jUH",
        "outputId": "004b832d-a17f-47fa-cb9f-f883b60f6048"
      },
      "source": [
        "recall_score(train_clf_y, y_pred)"
      ],
      "execution_count": 253,
      "outputs": [
        {
          "output_type": "execute_result",
          "data": {
            "text/plain": [
              "0.0"
            ]
          },
          "metadata": {
            "tags": []
          },
          "execution_count": 253
        }
      ]
    },
    {
      "cell_type": "code",
      "metadata": {
        "colab": {
          "base_uri": "https://localhost:8080/"
        },
        "id": "yvV3_P-E5uI4",
        "outputId": "b8b75e31-9c18-4859-dc66-74094d4509ad"
      },
      "source": [
        "pred = np.c_[y_pred, train_clf_y]\n",
        "\n",
        "len(pred[(pred==[1, 1]) | (pred==[0,0])])"
      ],
      "execution_count": 229,
      "outputs": [
        {
          "output_type": "execute_result",
          "data": {
            "text/plain": [
              "338362"
            ]
          },
          "metadata": {
            "tags": []
          },
          "execution_count": 229
        }
      ]
    },
    {
      "cell_type": "code",
      "metadata": {
        "colab": {
          "base_uri": "https://localhost:8080/"
        },
        "id": "ekywRUpj3jEs",
        "outputId": "5c21b609-b0cf-4632-eb5d-86b10e741ea5"
      },
      "source": [
        "a = y_pred + train_clf_y\n",
        "len(a[a==2])"
      ],
      "execution_count": 255,
      "outputs": [
        {
          "output_type": "execute_result",
          "data": {
            "text/plain": [
              "0"
            ]
          },
          "metadata": {
            "tags": []
          },
          "execution_count": 255
        }
      ]
    },
    {
      "cell_type": "code",
      "metadata": {
        "colab": {
          "base_uri": "https://localhost:8080/"
        },
        "id": "ECwmoZnCiWc7",
        "outputId": "abba2e30-6b1b-448d-f011-e664a30ce13f"
      },
      "source": [
        "grid_search.best_params_"
      ],
      "execution_count": 269,
      "outputs": [
        {
          "output_type": "execute_result",
          "data": {
            "text/plain": [
              "{'max_features': 8, 'n_estimators': 140}"
            ]
          },
          "metadata": {
            "tags": []
          },
          "execution_count": 269
        }
      ]
    },
    {
      "cell_type": "code",
      "metadata": {
        "colab": {
          "base_uri": "https://localhost:8080/"
        },
        "id": "7QuAr9ZciaDn",
        "outputId": "66bf34fe-6dda-4c1a-e887-91cd65570536"
      },
      "source": [
        "cvres = grid_search.cv_results_\n",
        "for mean_score, params in zip(cvres['mean_test_score'], cvres['params']):\n",
        "  print(np.sqrt(-mean_score), params)"
      ],
      "execution_count": 271,
      "outputs": [
        {
          "output_type": "stream",
          "text": [
            "17.45939363891985 {'max_features': 8, 'n_estimators': 100}\n",
            "17.43380208101577 {'max_features': 8, 'n_estimators': 120}\n",
            "17.426406755089893 {'max_features': 8, 'n_estimators': 140}\n"
          ],
          "name": "stdout"
        }
      ]
    },
    {
      "cell_type": "markdown",
      "metadata": {
        "id": "emm_QatG1cRI"
      },
      "source": [
        "#Regression to predict revenue where sales is predicted"
      ]
    },
    {
      "cell_type": "code",
      "metadata": {
        "id": "merSBK841wsm"
      },
      "source": [
        "#target variable for the second step (sales predicted)\n",
        "\n",
        "y_sales = pred_clf[pred_clf==1]"
      ],
      "execution_count": null,
      "outputs": []
    },
    {
      "cell_type": "code",
      "metadata": {
        "colab": {
          "base_uri": "https://localhost:8080/"
        },
        "id": "egKmpz2uF8ve",
        "outputId": "d4ddf65a-e2b9-4787-c519-eaebb67f7c75"
      },
      "source": [
        "#Support Vector Regressor\n",
        "\n",
        "svm_reg = SVR(kernel='linear')\n",
        "svm_reg.fit(X, y_sales)\n",
        "\n",
        "pred = svm_reg.predict(X)\n",
        "svm_mse = mean_squared_error(y_sales, pred)\n",
        "svm_rmse = np.sqrt(svm_mse)\n",
        "svm_rmse"
      ],
      "execution_count": 277,
      "outputs": [
        {
          "output_type": "execute_result",
          "data": {
            "text/plain": [
              "16.663549498162652"
            ]
          },
          "metadata": {
            "tags": []
          },
          "execution_count": 277
        }
      ]
    }
  ]
}