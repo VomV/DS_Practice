{
  "nbformat": 4,
  "nbformat_minor": 0,
  "metadata": {
    "colab": {
      "name": "homl_3_classification_spam.ipynb",
      "provenance": []
    },
    "kernelspec": {
      "name": "python3",
      "display_name": "Python 3"
    }
  },
  "cells": [
    {
      "cell_type": "markdown",
      "metadata": {
        "id": "Y3V9KEK7pJCH"
      },
      "source": [
        "\n",
        "##Apache Assasin's Spam dataset"
      ]
    },
    {
      "cell_type": "code",
      "metadata": {
        "id": "zjprh0N6pUCd"
      },
      "source": [
        "import os\n",
        "import tarfile\n",
        "import urllib.request\n",
        "\n",
        "DOWNLOAD_ROOT = \"http://spamassassin.apache.org/old/publiccorpus/\"\n",
        "HAM_URL = DOWNLOAD_ROOT + \"20030228_easy_ham.tar.bz2\"\n",
        "SPAM_URL = DOWNLOAD_ROOT + \"20030228_spam.tar.bz2\"\n",
        "SPAM_PATH = os.path.join(\"datasets\", \"spam\")\n",
        "\n",
        "def fetch_spam_data(ham_url=HAM_URL, spam_url=SPAM_URL, spam_path=SPAM_PATH):\n",
        "  os.makedirs(spam_path, exist_ok=True)\n",
        "\n",
        "  for filename, url in ((\"ham.tar.bz2\", ham_url), (\"spam.tar.bz2\", spam_url)):\n",
        "    path = os.path.join(spam_path, filename)\n",
        "    urllib.request.urlretrieve(url, path)\n",
        "    tar_bz2_file = tarfile.open(path)\n",
        "    tar_bz2_file.extractall(path=spam_path)\n",
        "    tar_bz2_file.close()\n"
      ],
      "execution_count": 8,
      "outputs": []
    },
    {
      "cell_type": "code",
      "metadata": {
        "id": "WoF9PKxxT5W7"
      },
      "source": [
        "fetch_spam_data()"
      ],
      "execution_count": 9,
      "outputs": []
    },
    {
      "cell_type": "code",
      "metadata": {
        "id": "JG8hocgsUlVO"
      },
      "source": [
        "#Loading the emails\n",
        "\n",
        "HAM_DIR = os.path.join(SPAM_PATH, 'easy_ham')\n",
        "SPAM_DIR = os.path.join(SPAM_PATH, 'spam')\n",
        "\n",
        "ham_filenames  = [name for name in sorted(os.listdir(HAM_DIR)) if len(name) > 20]\n",
        "spam_filenames  = [name for name in sorted(os.listdir(SPAM_DIR)) if len(name) > 20]"
      ],
      "execution_count": 10,
      "outputs": []
    },
    {
      "cell_type": "code",
      "metadata": {
        "id": "-huBzruiT72i"
      },
      "source": [
        "#Parse the emails\n",
        "\n",
        "import email, email.policy\n",
        "\n",
        "def load_email(is_spam, filename, spam_path=SPAM_PATH):\n",
        "  directory = 'spam' if is_spam else 'easy_ham'\n",
        "  with open(os.path.join(spam_path, directory, filename), 'rb') as f:\n",
        "    return email.parser.BytesParser(policy=email.policy.default).parse(f)"
      ],
      "execution_count": 14,
      "outputs": []
    },
    {
      "cell_type": "code",
      "metadata": {
        "id": "oz_jEU7sV4bX"
      },
      "source": [
        "ham_emails = [load_email(is_spam=False, filename=name) for name in ham_filenames]\n",
        "spam_emails = [load_email(is_spam=True, filename=name) for name in spam_filenames]\n"
      ],
      "execution_count": 15,
      "outputs": []
    },
    {
      "cell_type": "code",
      "metadata": {
        "colab": {
          "base_uri": "https://localhost:8080/"
        },
        "id": "FloraIWjWhtC",
        "outputId": "67aece35-953c-4289-cbfa-5b42a1ca33c4"
      },
      "source": [
        "print(spam_emails[1].get_content().strip())"
      ],
      "execution_count": 24,
      "outputs": [
        {
          "output_type": "stream",
          "text": [
            "1) Fight The Risk of Cancer!\n",
            "http://www.adclick.ws/p.cfm?o=315&s=pk007\n",
            "\n",
            "2) Slim Down - Guaranteed to lose 10-12 lbs in 30 days\n",
            "http://www.adclick.ws/p.cfm?o=249&s=pk007\n",
            "\n",
            "3) Get the Child Support You Deserve - Free Legal Advice\n",
            "http://www.adclick.ws/p.cfm?o=245&s=pk002\n",
            "\n",
            "4) Join the Web's Fastest Growing Singles Community\n",
            "http://www.adclick.ws/p.cfm?o=259&s=pk007\n",
            "\n",
            "5) Start Your Private Photo Album Online!\n",
            "http://www.adclick.ws/p.cfm?o=283&s=pk007\n",
            "\n",
            "Have a Wonderful Day,\n",
            "Offer Manager\n",
            "PrizeMama\n",
            "\n",
            "\n",
            "\n",
            "\n",
            "\n",
            "\n",
            "\n",
            "\n",
            "\n",
            "\n",
            "\n",
            "\n",
            "\n",
            "If you wish to leave this list please use the link below.\n",
            "http://www.qves.com/trim/?ilug@linux.ie%7C17%7C114258\n",
            "\n",
            "\n",
            "-- \n",
            "Irish Linux Users' Group: ilug@linux.ie\n",
            "http://www.linux.ie/mailman/listinfo/ilug for (un)subscription information.\n",
            "List maintainer: listmaster@linux.ie\n"
          ],
          "name": "stdout"
        }
      ]
    },
    {
      "cell_type": "code",
      "metadata": {
        "id": "CX59tCTVXD_Z"
      },
      "source": [
        ""
      ],
      "execution_count": null,
      "outputs": []
    }
  ]
}