{
  "nbformat": 4,
  "nbformat_minor": 0,
  "metadata": {
    "colab": {
      "name": "homl_2_housing_ex1.ipynb",
      "provenance": [],
      "collapsed_sections": []
    },
    "kernelspec": {
      "name": "python3",
      "display_name": "Python 3"
    }
  },
  "cells": [
    {
      "cell_type": "markdown",
      "metadata": {
        "id": "wzN9JBpEuZ2M"
      },
      "source": [
        "#Try SVR on housing dataset with diff params and kernels"
      ]
    },
    {
      "cell_type": "code",
      "metadata": {
        "colab": {
          "base_uri": "https://localhost:8080/"
        },
        "id": "8A2UvAZSumu8",
        "outputId": "bc951798-4951-4bc5-aee4-3840663956d4"
      },
      "source": [
        "#get the data\n",
        "\n",
        "import os\n",
        "import tarfile\n",
        "import urllib.request\n",
        "\n",
        "DOWNLOAD_ROOT = 'https://raw.githubusercontent.com/ageron/handson-ml2/master/'\n",
        "HOUSING_PATH = os.path.join('datasets', 'housing')\n",
        "HOUSING_URL = DOWNLOAD_ROOT + HOUSING_PATH + '/housing.tgz'\n",
        "\n",
        "\n",
        "def fetch_housing_data(housing_url=HOUSING_URL, housing_path=HOUSING_PATH):\n",
        "  if not os.path.isdir(housing_path):\n",
        "    os.makedirs(housing_path)\n",
        "  tgz_path = os.path.join(housing_path, 'housing.tgz')\n",
        "  urllib.request.urlretrieve(housing_url, tgz_path)\n",
        "  housing_tgz = tarfile.open(tgz_path)\n",
        "  housing_tgz.extractall(path=housing_path)\n",
        "  housing_tgz.close()\n",
        "\n",
        "#read to pd dataframe\n",
        "import pandas as pd\n",
        "\n",
        "def read_data(path):\n",
        "  return pd.read_csv(path+'/housing.csv')\n",
        "\n",
        "fetch_housing_data()\n",
        "housing = read_data(HOUSING_PATH)\n",
        "housing.info()"
      ],
      "execution_count": 7,
      "outputs": [
        {
          "output_type": "stream",
          "text": [
            "<class 'pandas.core.frame.DataFrame'>\n",
            "RangeIndex: 20640 entries, 0 to 20639\n",
            "Data columns (total 10 columns):\n",
            " #   Column              Non-Null Count  Dtype  \n",
            "---  ------              --------------  -----  \n",
            " 0   longitude           20640 non-null  float64\n",
            " 1   latitude            20640 non-null  float64\n",
            " 2   housing_median_age  20640 non-null  float64\n",
            " 3   total_rooms         20640 non-null  float64\n",
            " 4   total_bedrooms      20433 non-null  float64\n",
            " 5   population          20640 non-null  float64\n",
            " 6   households          20640 non-null  float64\n",
            " 7   median_income       20640 non-null  float64\n",
            " 8   median_house_value  20640 non-null  float64\n",
            " 9   ocean_proximity     20640 non-null  object \n",
            "dtypes: float64(9), object(1)\n",
            "memory usage: 1.6+ MB\n"
          ],
          "name": "stdout"
        }
      ]
    },
    {
      "cell_type": "code",
      "metadata": {
        "colab": {
          "base_uri": "https://localhost:8080/"
        },
        "id": "sv-T8RkXxPSF",
        "outputId": "7bdfee6d-dd95-46cb-97b9-13cdc714ecf0"
      },
      "source": [
        "#Stratified train test split based on median income\n",
        "import numpy as np\n",
        "from sklearn.model_selection import StratifiedShuffleSplit\n",
        "\n",
        "housing['income_cat'] = pd.cut(housing['median_income'], bins=[0.0, 1.5, 3, 4.5, 6, np.inf],\n",
        "                               labels=[1, 2, 3, 4, 5])\n",
        "housing['income_cat'].value_counts()\n",
        "\n",
        "split = StratifiedShuffleSplit(n_splits=1, test_size=0.2, random_state=42)\n",
        "\n",
        "for train_id, test_id in split.split(housing, housing['income_cat']):\n",
        "  train_stf, test_stf = housing.iloc[train_id], housing.iloc[test_id]\n",
        "\n",
        "print(train_stf.count())\n",
        "print(test_stf.count())\n",
        "\n",
        "train_stf.drop(['income_cat'], axis=1, inplace=True)\n",
        "test_stf.drop(['income_cat'], axis=1, inplace=True)"
      ],
      "execution_count": 13,
      "outputs": [
        {
          "output_type": "stream",
          "text": [
            "longitude             16512\n",
            "latitude              16512\n",
            "housing_median_age    16512\n",
            "total_rooms           16512\n",
            "total_bedrooms        16354\n",
            "population            16512\n",
            "households            16512\n",
            "median_income         16512\n",
            "median_house_value    16512\n",
            "ocean_proximity       16512\n",
            "income_cat            16512\n",
            "dtype: int64\n",
            "longitude             4128\n",
            "latitude              4128\n",
            "housing_median_age    4128\n",
            "total_rooms           4128\n",
            "total_bedrooms        4079\n",
            "population            4128\n",
            "households            4128\n",
            "median_income         4128\n",
            "median_house_value    4128\n",
            "ocean_proximity       4128\n",
            "income_cat            4128\n",
            "dtype: int64\n"
          ],
          "name": "stdout"
        },
        {
          "output_type": "stream",
          "text": [
            "/usr/local/lib/python3.7/dist-packages/pandas/core/frame.py:4174: SettingWithCopyWarning: \n",
            "A value is trying to be set on a copy of a slice from a DataFrame\n",
            "\n",
            "See the caveats in the documentation: https://pandas.pydata.org/pandas-docs/stable/user_guide/indexing.html#returning-a-view-versus-a-copy\n",
            "  errors=errors,\n"
          ],
          "name": "stderr"
        }
      ]
    },
    {
      "cell_type": "code",
      "metadata": {
        "id": "ID5CEc2kcVP7"
      },
      "source": [
        "#Separate attr and labels\n",
        "housing_x = train_stf.drop(['median_house_value'], axis=1)\n",
        "housing_y = train_stf['median_house_value'].copy()"
      ],
      "execution_count": 14,
      "outputs": []
    },
    {
      "cell_type": "code",
      "metadata": {
        "id": "QNW_MysUcwNk"
      },
      "source": [
        "#Create new features\n",
        "from sklearn.base import BaseEstimator, TransformerMixin\n",
        "\n",
        "\n",
        "class ExtraAttributes(BaseEstimator, TransformerMixin):\n",
        "  def __init__(self, add_bedrooms_per_room=True, extra_attr_id=[]):\n",
        "    self.add_bedrooms_per_room = add_bedrooms_per_room\n",
        "    self.extra_attr_id = extra_attr_id\n",
        "  def fit(self, X, y=None):\n",
        "    return self\n",
        "  def transform(self, X, y=None):\n",
        "\n",
        "    rooms_per_hholds = X[:, self.extra_attr_id[0]] / X[:, self.extra_attr_id[3]]\n",
        "    pop_per_hholds = X[:, self.extra_attr_id[2]] / X[:, self.extra_attr_id[3]]\n",
        "    if self.add_bedrooms_per_room:\n",
        "      brooms_per_room = X[:, self.extra_attr_id[1]] / X[:, self.extra_attr_id[0]]\n",
        "      return np.c_[X, rooms_per_hholds, pop_per_hholds, brooms_per_room]\n",
        "    else:\n",
        "      return np.c_[X, rooms_per_hholds, pop_per_hholds]\n",
        "\n",
        "\n",
        "# add_attr = ExtraAttributes(add_bedrooms_per_room=False)\n",
        "# housing_extra_attr = add_attr.transform(housing_x.values)\n",
        "\n",
        "# housing_extra_attr = pd.DataFrame(housing_extra_attr,\n",
        "#                                   columns=list(housing_x.columns)+['rooms_per_hholds',\n",
        "#                                                              'pop_per_hholds'],\n",
        "#                                   index=housing_x.index)\n",
        "# housing_extra_attr.head()\n",
        "\n",
        "\n"
      ],
      "execution_count": 36,
      "outputs": []
    },
    {
      "cell_type": "code",
      "metadata": {
        "id": "7EEAmLCevRx3"
      },
      "source": [
        "\n",
        "#Categorical and numerical features\n",
        "from sklearn.impute import SimpleImputer\n",
        "from sklearn.preprocessing import StandardScaler\n",
        "from sklearn.preprocessing import OneHotEncoder\n",
        "from sklearn.pipeline import Pipeline\n",
        "\n",
        "cat_attr = ['ocean_proximity']\n",
        "num_attr = housing_x.drop(cat_attr, axis=1).columns\n",
        "\n",
        "#Create pipeline for numerical features: Impute, Add attributes, scale\n",
        "\n",
        "#Create new features from these features\n",
        "extra_attr_from = ['total_rooms', 'total_bedrooms', 'population', 'households']\n",
        "rooms_id, brooms_id, pop_id, hholds_id = [housing.columns.get_loc(c) \n",
        "                                              for c in extra_attr_from]\n",
        "\n",
        "num_pipeline = Pipeline([\n",
        "                         ('imputer', SimpleImputer(strategy='median')),\n",
        "                         ('attr_add', ExtraAttributes(add_bedrooms_per_room=False,\n",
        "                                                      extra_attr_id=[rooms_id, \n",
        "                                                                     brooms_id, \n",
        "                                                                     pop_id,\n",
        "                                                                     hholds_id])),\n",
        "                          ('std_scaler', StandardScaler()),\n",
        "                        ])\n",
        "\n",
        "housing_num_tr = num_pipeline.fit_transform(housing_x[num_attr])"
      ],
      "execution_count": 37,
      "outputs": []
    },
    {
      "cell_type": "code",
      "metadata": {
        "id": "YUgK-MFgGTyg"
      },
      "source": [
        "#Full pipeline for numerical and categorical features\n",
        "#Use ColumnTransformer to apply different transformers to different attributes\n",
        "\n",
        "from sklearn.compose import ColumnTransformer\n",
        "\n",
        "full_pipeline = ColumnTransformer([\n",
        "                                   ('num', num_pipeline, num_attr),\n",
        "                                   ('cat', OneHotEncoder(), cat_attr)\n",
        "                                  ])\n",
        "\n",
        "housing_prep = full_pipeline.fit_transform(housing_x)"
      ],
      "execution_count": 40,
      "outputs": []
    },
    {
      "cell_type": "code",
      "metadata": {
        "colab": {
          "base_uri": "https://localhost:8080/"
        },
        "id": "KpkZN-aNIRdP",
        "outputId": "af43d2eb-cf0d-4797-93a8-af70f32275aa"
      },
      "source": [
        "#Grid search the params with SVR\n",
        "\n",
        "from sklearn.model_selection import GridSearchCV\n",
        "from sklearn.svm import SVR\n",
        "\n",
        "param_grid = {'kernel': ['linear', 'rbf'],\n",
        "              'C': [0.01, 1, 100],\n",
        "              'gamma': [0.1, 1, 10]}\n",
        "\n",
        "sv_reg = SVR()\n",
        "grid_search = GridSearchCV(sv_reg, param_grid, cv=5,\n",
        "                           scoring='neg_mean_squared_error',\n",
        "                           return_train_score=True)\n",
        "grid_search.fit(housing_prep, housing_y)"
      ],
      "execution_count": 49,
      "outputs": [
        {
          "output_type": "execute_result",
          "data": {
            "text/plain": [
              "GridSearchCV(cv=5, error_score=nan,\n",
              "             estimator=SVR(C=1.0, cache_size=200, coef0=0.0, degree=3,\n",
              "                           epsilon=0.1, gamma='scale', kernel='rbf',\n",
              "                           max_iter=-1, shrinking=True, tol=0.001,\n",
              "                           verbose=False),\n",
              "             iid='deprecated', n_jobs=None,\n",
              "             param_grid={'C': [0.01, 1, 100], 'gamma': [0.1, 1, 10],\n",
              "                         'kernel': ['linear', 'rbf']},\n",
              "             pre_dispatch='2*n_jobs', refit=True, return_train_score=True,\n",
              "             scoring='neg_mean_squared_error', verbose=0)"
            ]
          },
          "metadata": {
            "tags": []
          },
          "execution_count": 49
        }
      ]
    },
    {
      "cell_type": "code",
      "metadata": {
        "colab": {
          "base_uri": "https://localhost:8080/"
        },
        "id": "zgrIGzRKLz8N",
        "outputId": "fb5ae109-e885-4e11-8120-0fb51f90b7db"
      },
      "source": [
        "grid_search.best_params_"
      ],
      "execution_count": 50,
      "outputs": [
        {
          "output_type": "execute_result",
          "data": {
            "text/plain": [
              "{'C': 100, 'gamma': 0.1, 'kernel': 'linear'}"
            ]
          },
          "metadata": {
            "tags": []
          },
          "execution_count": 50
        }
      ]
    },
    {
      "cell_type": "code",
      "metadata": {
        "colab": {
          "base_uri": "https://localhost:8080/"
        },
        "id": "FD_kiY_2LRew",
        "outputId": "b1b4e1ee-724e-419e-9ee7-9266a6857bb3"
      },
      "source": [
        "grid_search.best_estimator_"
      ],
      "execution_count": 53,
      "outputs": [
        {
          "output_type": "execute_result",
          "data": {
            "text/plain": [
              "SVR(C=100, cache_size=200, coef0=0.0, degree=3, epsilon=0.1, gamma=0.1,\n",
              "    kernel='linear', max_iter=-1, shrinking=True, tol=0.001, verbose=False)"
            ]
          },
          "metadata": {
            "tags": []
          },
          "execution_count": 53
        }
      ]
    },
    {
      "cell_type": "code",
      "metadata": {
        "colab": {
          "base_uri": "https://localhost:8080/"
        },
        "id": "eRfz-SmvL9La",
        "outputId": "e4195677-3b8f-43f5-a9dd-92c80d59184e"
      },
      "source": [
        "cvres = grid_search.cv_results_\n",
        "for mean_score, params in zip(cvres['mean_test_score'], cvres['params']):\n",
        "  print(np.sqrt(-mean_score), params)\n",
        "\n",
        "  "
      ],
      "execution_count": 57,
      "outputs": [
        {
          "output_type": "stream",
          "text": [
            "118855.96291060038 {'C': 0.01, 'gamma': 0.1, 'kernel': 'linear'}\n",
            "118920.06571320626 {'C': 0.01, 'gamma': 0.1, 'kernel': 'rbf'}\n",
            "118855.96291060038 {'C': 0.01, 'gamma': 1, 'kernel': 'linear'}\n",
            "118922.62925681463 {'C': 0.01, 'gamma': 1, 'kernel': 'rbf'}\n",
            "118855.96291060038 {'C': 0.01, 'gamma': 10, 'kernel': 'linear'}\n",
            "118923.15610877576 {'C': 0.01, 'gamma': 10, 'kernel': 'rbf'}\n",
            "112978.05831219374 {'C': 1, 'gamma': 0.1, 'kernel': 'linear'}\n",
            "118635.66292102466 {'C': 1, 'gamma': 0.1, 'kernel': 'rbf'}\n",
            "112978.05831219374 {'C': 1, 'gamma': 1, 'kernel': 'linear'}\n",
            "118877.21824455929 {'C': 1, 'gamma': 1, 'kernel': 'rbf'}\n",
            "112978.05831219374 {'C': 1, 'gamma': 10, 'kernel': 'linear'}\n",
            "118922.10864227857 {'C': 1, 'gamma': 10, 'kernel': 'rbf'}\n",
            "72038.42723220418 {'C': 100, 'gamma': 0.1, 'kernel': 'linear'}\n",
            "98014.54557303373 {'C': 100, 'gamma': 0.1, 'kernel': 'rbf'}\n",
            "72038.42723220418 {'C': 100, 'gamma': 1, 'kernel': 'linear'}\n",
            "115016.341977547 {'C': 100, 'gamma': 1, 'kernel': 'rbf'}\n",
            "72038.42723220418 {'C': 100, 'gamma': 10, 'kernel': 'linear'}\n",
            "118852.39717289455 {'C': 100, 'gamma': 10, 'kernel': 'rbf'}\n"
          ],
          "name": "stdout"
        }
      ]
    },
    {
      "cell_type": "code",
      "metadata": {
        "id": "lWfcUO9Uc-Co"
      },
      "source": [
        "final_model = grid_search.best_estimator_"
      ],
      "execution_count": 58,
      "outputs": []
    },
    {
      "cell_type": "code",
      "metadata": {
        "colab": {
          "base_uri": "https://localhost:8080/"
        },
        "id": "fhPQZMFrkIiF",
        "outputId": "062405f9-d070-406b-e107-55b8295d97a7"
      },
      "source": [
        "#Full pipeline\n",
        "\n",
        "feat_train_predict_pipe = Pipeline([\n",
        "                                    ('prep', full_pipeline),\n",
        "                                    ('svm_reg', SVR(**grid_search.best_params_))\n",
        "])\n",
        "\n",
        "feat_train_predict_pipe.fit(housing_x, housing_y)"
      ],
      "execution_count": 63,
      "outputs": [
        {
          "output_type": "execute_result",
          "data": {
            "text/plain": [
              "Pipeline(memory=None,\n",
              "         steps=[('prep',\n",
              "                 ColumnTransformer(n_jobs=None, remainder='drop',\n",
              "                                   sparse_threshold=0.3,\n",
              "                                   transformer_weights=None,\n",
              "                                   transformers=[('num',\n",
              "                                                  Pipeline(memory=None,\n",
              "                                                           steps=[('imputer',\n",
              "                                                                   SimpleImputer(add_indicator=False,\n",
              "                                                                                 copy=True,\n",
              "                                                                                 fill_value=None,\n",
              "                                                                                 missing_values=nan,\n",
              "                                                                                 strategy='median',\n",
              "                                                                                 verbose=0)),\n",
              "                                                                  ('attr_add',\n",
              "                                                                   ExtraAttributes(add_bedrooms_per_room=Fa...\n",
              "       'total_bedrooms', 'population', 'households', 'median_income'],\n",
              "      dtype='object')),\n",
              "                                                 ('cat',\n",
              "                                                  OneHotEncoder(categories='auto',\n",
              "                                                                drop=None,\n",
              "                                                                dtype=<class 'numpy.float64'>,\n",
              "                                                                handle_unknown='error',\n",
              "                                                                sparse=True),\n",
              "                                                  ['ocean_proximity'])],\n",
              "                                   verbose=False)),\n",
              "                ('svm_reg',\n",
              "                 SVR(C=100, cache_size=200, coef0=0.0, degree=3, epsilon=0.1,\n",
              "                     gamma=0.1, kernel='linear', max_iter=-1, shrinking=True,\n",
              "                     tol=0.001, verbose=False))],\n",
              "         verbose=False)"
            ]
          },
          "metadata": {
            "tags": []
          },
          "execution_count": 63
        }
      ]
    },
    {
      "cell_type": "code",
      "metadata": {
        "colab": {
          "base_uri": "https://localhost:8080/"
        },
        "id": "sdoEVoIomcag",
        "outputId": "86fcad29-4bf5-4b4e-ca58-52095349678f"
      },
      "source": [
        "from sklearn.metrics import mean_squared_error\n",
        "\n",
        "pred = feat_train_predict_pipe.predict(housing_x[:5])\n",
        "svr_mse = mean_squared_error(housing_y[:5], pred)\n",
        "svr_rmse = np.sqrt(svr_mse)\n",
        "svr_rmse"
      ],
      "execution_count": 65,
      "outputs": [
        {
          "output_type": "execute_result",
          "data": {
            "text/plain": [
              "58111.47784697697"
            ]
          },
          "metadata": {
            "tags": []
          },
          "execution_count": 65
        }
      ]
    },
    {
      "cell_type": "code",
      "metadata": {
        "id": "f8J76KcPmuXX"
      },
      "source": [
        ""
      ],
      "execution_count": null,
      "outputs": []
    }
  ]
}